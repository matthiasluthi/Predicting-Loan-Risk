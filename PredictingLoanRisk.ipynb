{
 "cells": [
  {
   "cell_type": "markdown",
   "metadata": {},
   "source": [
    "# <center>Portfolio Project: Predicting<br>Loan Risk</center>\n",
    "Welcome to my portfolio project, where I will build a model to predict which loans are risky. <br>\n",
    "I will demonstrate the complete data processing pipeline, from data prepration, model fitting and hyperparameter tuning with state-of-the-art gradient boosting machines. <br>\n",
    "Thank you for your time and reviewing my portfolio! "
   ]
  },
  {
   "cell_type": "markdown",
   "metadata": {},
   "source": [
    "**Content:** <br>\n",
    "1. [Data Info & Setup](#1.)<br>\n",
    "    1.1 [Creating the Target Variable](#1.1)<br>\n",
    "    1.2 [Filter data to information available at loan issuance](#1.2)<br>\n",
    "1. [Exploratory Data Analysis & Data Preparation](#2.)<br>\n",
    "    2.1 [Text Columns & Feature Engineering](#2.1)<br>\n",
    "    2.2 [Missing Data](#2.2)<br>\n",
    "    2.3 [Final Preparations & Train-Test-Split](#2.3)<br>\n",
    "1. [Modeling](#3.)<br>\n",
    "    3.1 [Logistic Regression](#3.1)<br>\n",
    "\n"
   ]
  },
  {
   "cell_type": "markdown",
   "metadata": {},
   "source": [
    "<a id='1.'></a>"
   ]
  },
  {
   "cell_type": "markdown",
   "metadata": {},
   "source": [
    "# 1. Data Info & Setup"
   ]
  },
  {
   "cell_type": "markdown",
   "metadata": {},
   "source": [
    "This is a [publicly available data set](http://https://www.lendingclub.com/auth/login?login_url=%2Finfo%2Fdownload-data.action) from LendingClub, an American peer-to-peer lending company.  I will build a model to predict which loans had been paid back completely and without delay. This will provide valueable information for future loan decisions. "
   ]
  },
  {
   "cell_type": "code",
   "execution_count": 6,
   "metadata": {
    "_cell_guid": "b1076dfc-b9ad-4769-8c92-a6c4dae69d19",
    "_uuid": "8f2839f25d086af736a60e9eeb907d3b93b6e0e5"
   },
   "outputs": [],
   "source": [
    "# Import standard libraries\n",
    "import numpy as np\n",
    "import pandas as pd \n",
    "import matplotlib.pyplot as plt\n",
    "import seaborn as sns\n",
    "import pandas_profiling as pp\n",
    "\n",
    "%matplotlib notebook \n",
    "sns.set_style(\"darkgrid\")"
   ]
  },
  {
   "cell_type": "code",
   "execution_count": 7,
   "metadata": {
    "_cell_guid": "79c7e3d0-c299-4dcb-8224-4455121ee9b0",
    "_uuid": "d629ff2d2480ee46fbb7e2d37f6b5fab8052498a"
   },
   "outputs": [],
   "source": [
    "# Load the data\n",
    "df = pd.read_csv(\"accepted_2007_to_2018Q4.csv\", low_memory=False)"
   ]
  },
  {
   "cell_type": "markdown",
   "metadata": {},
   "source": [
    "<a id='1.1'></a>"
   ]
  },
  {
   "cell_type": "markdown",
   "metadata": {},
   "source": [
    "## 1.1 Creating the Target Variable\n",
    "There is one variable informing about loan status.\n",
    "Let's have a closer look: "
   ]
  },
  {
   "cell_type": "code",
   "execution_count": 8,
   "metadata": {},
   "outputs": [
    {
     "data": {
      "text/plain": [
       "Fully Paid                                             1076751\n",
       "Current                                                 878317\n",
       "Charged Off                                             268559\n",
       "Late (31-120 days)                                       21467\n",
       "In Grace Period                                           8436\n",
       "Late (16-30 days)                                         4349\n",
       "Does not meet the credit policy. Status:Fully Paid        1988\n",
       "Does not meet the credit policy. Status:Charged Off        761\n",
       "Default                                                     40\n",
       "Name: loan_status, dtype: int64"
      ]
     },
     "execution_count": 8,
     "metadata": {},
     "output_type": "execute_result"
    }
   ],
   "source": [
    "df[\"loan_status\"].value_counts()"
   ]
  },
  {
   "cell_type": "markdown",
   "metadata": {},
   "source": [
    "I will use loan_status to create a binary variable, which marks problematic \n",
    "loans. This will become my **target variable** for modeling. "
   ]
  },
  {
   "cell_type": "code",
   "execution_count": 9,
   "metadata": {},
   "outputs": [],
   "source": [
    "problematic_loans = [\"Charged Off\", \"Default\", \"In Grace Period\", \n",
    "                     \"Does not meet the credit policy. Status:Charged Off\", \n",
    "                     \"Late (16-30 days)\", \"Late (31-120 days)\"]\n",
    "\n",
    "df[\"problematic_loan\"] = df[\"loan_status\"].apply(lambda s: int(s in problematic_loans))"
   ]
  },
  {
   "cell_type": "code",
   "execution_count": 10,
   "metadata": {},
   "outputs": [],
   "source": [
    "# I drop all current loans from analysis. We don't know whether they will \n",
    "# become problamtic loans or not and I will therefore exclude them\n",
    "df = df[df[\"loan_status\"] != \"Current\"]"
   ]
  },
  {
   "cell_type": "code",
   "execution_count": 11,
   "metadata": {},
   "outputs": [
    {
     "data": {
      "application/javascript": [
       "/* Put everything inside the global mpl namespace */\n",
       "window.mpl = {};\n",
       "\n",
       "\n",
       "mpl.get_websocket_type = function() {\n",
       "    if (typeof(WebSocket) !== 'undefined') {\n",
       "        return WebSocket;\n",
       "    } else if (typeof(MozWebSocket) !== 'undefined') {\n",
       "        return MozWebSocket;\n",
       "    } else {\n",
       "        alert('Your browser does not have WebSocket support. ' +\n",
       "              'Please try Chrome, Safari or Firefox ≥ 6. ' +\n",
       "              'Firefox 4 and 5 are also supported but you ' +\n",
       "              'have to enable WebSockets in about:config.');\n",
       "    };\n",
       "}\n",
       "\n",
       "mpl.figure = function(figure_id, websocket, ondownload, parent_element) {\n",
       "    this.id = figure_id;\n",
       "\n",
       "    this.ws = websocket;\n",
       "\n",
       "    this.supports_binary = (this.ws.binaryType != undefined);\n",
       "\n",
       "    if (!this.supports_binary) {\n",
       "        var warnings = document.getElementById(\"mpl-warnings\");\n",
       "        if (warnings) {\n",
       "            warnings.style.display = 'block';\n",
       "            warnings.textContent = (\n",
       "                \"This browser does not support binary websocket messages. \" +\n",
       "                    \"Performance may be slow.\");\n",
       "        }\n",
       "    }\n",
       "\n",
       "    this.imageObj = new Image();\n",
       "\n",
       "    this.context = undefined;\n",
       "    this.message = undefined;\n",
       "    this.canvas = undefined;\n",
       "    this.rubberband_canvas = undefined;\n",
       "    this.rubberband_context = undefined;\n",
       "    this.format_dropdown = undefined;\n",
       "\n",
       "    this.image_mode = 'full';\n",
       "\n",
       "    this.root = $('<div/>');\n",
       "    this._root_extra_style(this.root)\n",
       "    this.root.attr('style', 'display: inline-block');\n",
       "\n",
       "    $(parent_element).append(this.root);\n",
       "\n",
       "    this._init_header(this);\n",
       "    this._init_canvas(this);\n",
       "    this._init_toolbar(this);\n",
       "\n",
       "    var fig = this;\n",
       "\n",
       "    this.waiting = false;\n",
       "\n",
       "    this.ws.onopen =  function () {\n",
       "            fig.send_message(\"supports_binary\", {value: fig.supports_binary});\n",
       "            fig.send_message(\"send_image_mode\", {});\n",
       "            if (mpl.ratio != 1) {\n",
       "                fig.send_message(\"set_dpi_ratio\", {'dpi_ratio': mpl.ratio});\n",
       "            }\n",
       "            fig.send_message(\"refresh\", {});\n",
       "        }\n",
       "\n",
       "    this.imageObj.onload = function() {\n",
       "            if (fig.image_mode == 'full') {\n",
       "                // Full images could contain transparency (where diff images\n",
       "                // almost always do), so we need to clear the canvas so that\n",
       "                // there is no ghosting.\n",
       "                fig.context.clearRect(0, 0, fig.canvas.width, fig.canvas.height);\n",
       "            }\n",
       "            fig.context.drawImage(fig.imageObj, 0, 0);\n",
       "        };\n",
       "\n",
       "    this.imageObj.onunload = function() {\n",
       "        fig.ws.close();\n",
       "    }\n",
       "\n",
       "    this.ws.onmessage = this._make_on_message_function(this);\n",
       "\n",
       "    this.ondownload = ondownload;\n",
       "}\n",
       "\n",
       "mpl.figure.prototype._init_header = function() {\n",
       "    var titlebar = $(\n",
       "        '<div class=\"ui-dialog-titlebar ui-widget-header ui-corner-all ' +\n",
       "        'ui-helper-clearfix\"/>');\n",
       "    var titletext = $(\n",
       "        '<div class=\"ui-dialog-title\" style=\"width: 100%; ' +\n",
       "        'text-align: center; padding: 3px;\"/>');\n",
       "    titlebar.append(titletext)\n",
       "    this.root.append(titlebar);\n",
       "    this.header = titletext[0];\n",
       "}\n",
       "\n",
       "\n",
       "\n",
       "mpl.figure.prototype._canvas_extra_style = function(canvas_div) {\n",
       "\n",
       "}\n",
       "\n",
       "\n",
       "mpl.figure.prototype._root_extra_style = function(canvas_div) {\n",
       "\n",
       "}\n",
       "\n",
       "mpl.figure.prototype._init_canvas = function() {\n",
       "    var fig = this;\n",
       "\n",
       "    var canvas_div = $('<div/>');\n",
       "\n",
       "    canvas_div.attr('style', 'position: relative; clear: both; outline: 0');\n",
       "\n",
       "    function canvas_keyboard_event(event) {\n",
       "        return fig.key_event(event, event['data']);\n",
       "    }\n",
       "\n",
       "    canvas_div.keydown('key_press', canvas_keyboard_event);\n",
       "    canvas_div.keyup('key_release', canvas_keyboard_event);\n",
       "    this.canvas_div = canvas_div\n",
       "    this._canvas_extra_style(canvas_div)\n",
       "    this.root.append(canvas_div);\n",
       "\n",
       "    var canvas = $('<canvas/>');\n",
       "    canvas.addClass('mpl-canvas');\n",
       "    canvas.attr('style', \"left: 0; top: 0; z-index: 0; outline: 0\")\n",
       "\n",
       "    this.canvas = canvas[0];\n",
       "    this.context = canvas[0].getContext(\"2d\");\n",
       "\n",
       "    var backingStore = this.context.backingStorePixelRatio ||\n",
       "\tthis.context.webkitBackingStorePixelRatio ||\n",
       "\tthis.context.mozBackingStorePixelRatio ||\n",
       "\tthis.context.msBackingStorePixelRatio ||\n",
       "\tthis.context.oBackingStorePixelRatio ||\n",
       "\tthis.context.backingStorePixelRatio || 1;\n",
       "\n",
       "    mpl.ratio = (window.devicePixelRatio || 1) / backingStore;\n",
       "\n",
       "    var rubberband = $('<canvas/>');\n",
       "    rubberband.attr('style', \"position: absolute; left: 0; top: 0; z-index: 1;\")\n",
       "\n",
       "    var pass_mouse_events = true;\n",
       "\n",
       "    canvas_div.resizable({\n",
       "        start: function(event, ui) {\n",
       "            pass_mouse_events = false;\n",
       "        },\n",
       "        resize: function(event, ui) {\n",
       "            fig.request_resize(ui.size.width, ui.size.height);\n",
       "        },\n",
       "        stop: function(event, ui) {\n",
       "            pass_mouse_events = true;\n",
       "            fig.request_resize(ui.size.width, ui.size.height);\n",
       "        },\n",
       "    });\n",
       "\n",
       "    function mouse_event_fn(event) {\n",
       "        if (pass_mouse_events)\n",
       "            return fig.mouse_event(event, event['data']);\n",
       "    }\n",
       "\n",
       "    rubberband.mousedown('button_press', mouse_event_fn);\n",
       "    rubberband.mouseup('button_release', mouse_event_fn);\n",
       "    // Throttle sequential mouse events to 1 every 20ms.\n",
       "    rubberband.mousemove('motion_notify', mouse_event_fn);\n",
       "\n",
       "    rubberband.mouseenter('figure_enter', mouse_event_fn);\n",
       "    rubberband.mouseleave('figure_leave', mouse_event_fn);\n",
       "\n",
       "    canvas_div.on(\"wheel\", function (event) {\n",
       "        event = event.originalEvent;\n",
       "        event['data'] = 'scroll'\n",
       "        if (event.deltaY < 0) {\n",
       "            event.step = 1;\n",
       "        } else {\n",
       "            event.step = -1;\n",
       "        }\n",
       "        mouse_event_fn(event);\n",
       "    });\n",
       "\n",
       "    canvas_div.append(canvas);\n",
       "    canvas_div.append(rubberband);\n",
       "\n",
       "    this.rubberband = rubberband;\n",
       "    this.rubberband_canvas = rubberband[0];\n",
       "    this.rubberband_context = rubberband[0].getContext(\"2d\");\n",
       "    this.rubberband_context.strokeStyle = \"#000000\";\n",
       "\n",
       "    this._resize_canvas = function(width, height) {\n",
       "        // Keep the size of the canvas, canvas container, and rubber band\n",
       "        // canvas in synch.\n",
       "        canvas_div.css('width', width)\n",
       "        canvas_div.css('height', height)\n",
       "\n",
       "        canvas.attr('width', width * mpl.ratio);\n",
       "        canvas.attr('height', height * mpl.ratio);\n",
       "        canvas.attr('style', 'width: ' + width + 'px; height: ' + height + 'px;');\n",
       "\n",
       "        rubberband.attr('width', width);\n",
       "        rubberband.attr('height', height);\n",
       "    }\n",
       "\n",
       "    // Set the figure to an initial 600x600px, this will subsequently be updated\n",
       "    // upon first draw.\n",
       "    this._resize_canvas(600, 600);\n",
       "\n",
       "    // Disable right mouse context menu.\n",
       "    $(this.rubberband_canvas).bind(\"contextmenu\",function(e){\n",
       "        return false;\n",
       "    });\n",
       "\n",
       "    function set_focus () {\n",
       "        canvas.focus();\n",
       "        canvas_div.focus();\n",
       "    }\n",
       "\n",
       "    window.setTimeout(set_focus, 100);\n",
       "}\n",
       "\n",
       "mpl.figure.prototype._init_toolbar = function() {\n",
       "    var fig = this;\n",
       "\n",
       "    var nav_element = $('<div/>');\n",
       "    nav_element.attr('style', 'width: 100%');\n",
       "    this.root.append(nav_element);\n",
       "\n",
       "    // Define a callback function for later on.\n",
       "    function toolbar_event(event) {\n",
       "        return fig.toolbar_button_onclick(event['data']);\n",
       "    }\n",
       "    function toolbar_mouse_event(event) {\n",
       "        return fig.toolbar_button_onmouseover(event['data']);\n",
       "    }\n",
       "\n",
       "    for(var toolbar_ind in mpl.toolbar_items) {\n",
       "        var name = mpl.toolbar_items[toolbar_ind][0];\n",
       "        var tooltip = mpl.toolbar_items[toolbar_ind][1];\n",
       "        var image = mpl.toolbar_items[toolbar_ind][2];\n",
       "        var method_name = mpl.toolbar_items[toolbar_ind][3];\n",
       "\n",
       "        if (!name) {\n",
       "            // put a spacer in here.\n",
       "            continue;\n",
       "        }\n",
       "        var button = $('<button/>');\n",
       "        button.addClass('ui-button ui-widget ui-state-default ui-corner-all ' +\n",
       "                        'ui-button-icon-only');\n",
       "        button.attr('role', 'button');\n",
       "        button.attr('aria-disabled', 'false');\n",
       "        button.click(method_name, toolbar_event);\n",
       "        button.mouseover(tooltip, toolbar_mouse_event);\n",
       "\n",
       "        var icon_img = $('<span/>');\n",
       "        icon_img.addClass('ui-button-icon-primary ui-icon');\n",
       "        icon_img.addClass(image);\n",
       "        icon_img.addClass('ui-corner-all');\n",
       "\n",
       "        var tooltip_span = $('<span/>');\n",
       "        tooltip_span.addClass('ui-button-text');\n",
       "        tooltip_span.html(tooltip);\n",
       "\n",
       "        button.append(icon_img);\n",
       "        button.append(tooltip_span);\n",
       "\n",
       "        nav_element.append(button);\n",
       "    }\n",
       "\n",
       "    var fmt_picker_span = $('<span/>');\n",
       "\n",
       "    var fmt_picker = $('<select/>');\n",
       "    fmt_picker.addClass('mpl-toolbar-option ui-widget ui-widget-content');\n",
       "    fmt_picker_span.append(fmt_picker);\n",
       "    nav_element.append(fmt_picker_span);\n",
       "    this.format_dropdown = fmt_picker[0];\n",
       "\n",
       "    for (var ind in mpl.extensions) {\n",
       "        var fmt = mpl.extensions[ind];\n",
       "        var option = $(\n",
       "            '<option/>', {selected: fmt === mpl.default_extension}).html(fmt);\n",
       "        fmt_picker.append(option);\n",
       "    }\n",
       "\n",
       "    // Add hover states to the ui-buttons\n",
       "    $( \".ui-button\" ).hover(\n",
       "        function() { $(this).addClass(\"ui-state-hover\");},\n",
       "        function() { $(this).removeClass(\"ui-state-hover\");}\n",
       "    );\n",
       "\n",
       "    var status_bar = $('<span class=\"mpl-message\"/>');\n",
       "    nav_element.append(status_bar);\n",
       "    this.message = status_bar[0];\n",
       "}\n",
       "\n",
       "mpl.figure.prototype.request_resize = function(x_pixels, y_pixels) {\n",
       "    // Request matplotlib to resize the figure. Matplotlib will then trigger a resize in the client,\n",
       "    // which will in turn request a refresh of the image.\n",
       "    this.send_message('resize', {'width': x_pixels, 'height': y_pixels});\n",
       "}\n",
       "\n",
       "mpl.figure.prototype.send_message = function(type, properties) {\n",
       "    properties['type'] = type;\n",
       "    properties['figure_id'] = this.id;\n",
       "    this.ws.send(JSON.stringify(properties));\n",
       "}\n",
       "\n",
       "mpl.figure.prototype.send_draw_message = function() {\n",
       "    if (!this.waiting) {\n",
       "        this.waiting = true;\n",
       "        this.ws.send(JSON.stringify({type: \"draw\", figure_id: this.id}));\n",
       "    }\n",
       "}\n",
       "\n",
       "\n",
       "mpl.figure.prototype.handle_save = function(fig, msg) {\n",
       "    var format_dropdown = fig.format_dropdown;\n",
       "    var format = format_dropdown.options[format_dropdown.selectedIndex].value;\n",
       "    fig.ondownload(fig, format);\n",
       "}\n",
       "\n",
       "\n",
       "mpl.figure.prototype.handle_resize = function(fig, msg) {\n",
       "    var size = msg['size'];\n",
       "    if (size[0] != fig.canvas.width || size[1] != fig.canvas.height) {\n",
       "        fig._resize_canvas(size[0], size[1]);\n",
       "        fig.send_message(\"refresh\", {});\n",
       "    };\n",
       "}\n",
       "\n",
       "mpl.figure.prototype.handle_rubberband = function(fig, msg) {\n",
       "    var x0 = msg['x0'] / mpl.ratio;\n",
       "    var y0 = (fig.canvas.height - msg['y0']) / mpl.ratio;\n",
       "    var x1 = msg['x1'] / mpl.ratio;\n",
       "    var y1 = (fig.canvas.height - msg['y1']) / mpl.ratio;\n",
       "    x0 = Math.floor(x0) + 0.5;\n",
       "    y0 = Math.floor(y0) + 0.5;\n",
       "    x1 = Math.floor(x1) + 0.5;\n",
       "    y1 = Math.floor(y1) + 0.5;\n",
       "    var min_x = Math.min(x0, x1);\n",
       "    var min_y = Math.min(y0, y1);\n",
       "    var width = Math.abs(x1 - x0);\n",
       "    var height = Math.abs(y1 - y0);\n",
       "\n",
       "    fig.rubberband_context.clearRect(\n",
       "        0, 0, fig.canvas.width / mpl.ratio, fig.canvas.height / mpl.ratio);\n",
       "\n",
       "    fig.rubberband_context.strokeRect(min_x, min_y, width, height);\n",
       "}\n",
       "\n",
       "mpl.figure.prototype.handle_figure_label = function(fig, msg) {\n",
       "    // Updates the figure title.\n",
       "    fig.header.textContent = msg['label'];\n",
       "}\n",
       "\n",
       "mpl.figure.prototype.handle_cursor = function(fig, msg) {\n",
       "    var cursor = msg['cursor'];\n",
       "    switch(cursor)\n",
       "    {\n",
       "    case 0:\n",
       "        cursor = 'pointer';\n",
       "        break;\n",
       "    case 1:\n",
       "        cursor = 'default';\n",
       "        break;\n",
       "    case 2:\n",
       "        cursor = 'crosshair';\n",
       "        break;\n",
       "    case 3:\n",
       "        cursor = 'move';\n",
       "        break;\n",
       "    }\n",
       "    fig.rubberband_canvas.style.cursor = cursor;\n",
       "}\n",
       "\n",
       "mpl.figure.prototype.handle_message = function(fig, msg) {\n",
       "    fig.message.textContent = msg['message'];\n",
       "}\n",
       "\n",
       "mpl.figure.prototype.handle_draw = function(fig, msg) {\n",
       "    // Request the server to send over a new figure.\n",
       "    fig.send_draw_message();\n",
       "}\n",
       "\n",
       "mpl.figure.prototype.handle_image_mode = function(fig, msg) {\n",
       "    fig.image_mode = msg['mode'];\n",
       "}\n",
       "\n",
       "mpl.figure.prototype.updated_canvas_event = function() {\n",
       "    // Called whenever the canvas gets updated.\n",
       "    this.send_message(\"ack\", {});\n",
       "}\n",
       "\n",
       "// A function to construct a web socket function for onmessage handling.\n",
       "// Called in the figure constructor.\n",
       "mpl.figure.prototype._make_on_message_function = function(fig) {\n",
       "    return function socket_on_message(evt) {\n",
       "        if (evt.data instanceof Blob) {\n",
       "            /* FIXME: We get \"Resource interpreted as Image but\n",
       "             * transferred with MIME type text/plain:\" errors on\n",
       "             * Chrome.  But how to set the MIME type?  It doesn't seem\n",
       "             * to be part of the websocket stream */\n",
       "            evt.data.type = \"image/png\";\n",
       "\n",
       "            /* Free the memory for the previous frames */\n",
       "            if (fig.imageObj.src) {\n",
       "                (window.URL || window.webkitURL).revokeObjectURL(\n",
       "                    fig.imageObj.src);\n",
       "            }\n",
       "\n",
       "            fig.imageObj.src = (window.URL || window.webkitURL).createObjectURL(\n",
       "                evt.data);\n",
       "            fig.updated_canvas_event();\n",
       "            fig.waiting = false;\n",
       "            return;\n",
       "        }\n",
       "        else if (typeof evt.data === 'string' && evt.data.slice(0, 21) == \"data:image/png;base64\") {\n",
       "            fig.imageObj.src = evt.data;\n",
       "            fig.updated_canvas_event();\n",
       "            fig.waiting = false;\n",
       "            return;\n",
       "        }\n",
       "\n",
       "        var msg = JSON.parse(evt.data);\n",
       "        var msg_type = msg['type'];\n",
       "\n",
       "        // Call the  \"handle_{type}\" callback, which takes\n",
       "        // the figure and JSON message as its only arguments.\n",
       "        try {\n",
       "            var callback = fig[\"handle_\" + msg_type];\n",
       "        } catch (e) {\n",
       "            console.log(\"No handler for the '\" + msg_type + \"' message type: \", msg);\n",
       "            return;\n",
       "        }\n",
       "\n",
       "        if (callback) {\n",
       "            try {\n",
       "                // console.log(\"Handling '\" + msg_type + \"' message: \", msg);\n",
       "                callback(fig, msg);\n",
       "            } catch (e) {\n",
       "                console.log(\"Exception inside the 'handler_\" + msg_type + \"' callback:\", e, e.stack, msg);\n",
       "            }\n",
       "        }\n",
       "    };\n",
       "}\n",
       "\n",
       "// from http://stackoverflow.com/questions/1114465/getting-mouse-location-in-canvas\n",
       "mpl.findpos = function(e) {\n",
       "    //this section is from http://www.quirksmode.org/js/events_properties.html\n",
       "    var targ;\n",
       "    if (!e)\n",
       "        e = window.event;\n",
       "    if (e.target)\n",
       "        targ = e.target;\n",
       "    else if (e.srcElement)\n",
       "        targ = e.srcElement;\n",
       "    if (targ.nodeType == 3) // defeat Safari bug\n",
       "        targ = targ.parentNode;\n",
       "\n",
       "    // jQuery normalizes the pageX and pageY\n",
       "    // pageX,Y are the mouse positions relative to the document\n",
       "    // offset() returns the position of the element relative to the document\n",
       "    var x = e.pageX - $(targ).offset().left;\n",
       "    var y = e.pageY - $(targ).offset().top;\n",
       "\n",
       "    return {\"x\": x, \"y\": y};\n",
       "};\n",
       "\n",
       "/*\n",
       " * return a copy of an object with only non-object keys\n",
       " * we need this to avoid circular references\n",
       " * http://stackoverflow.com/a/24161582/3208463\n",
       " */\n",
       "function simpleKeys (original) {\n",
       "  return Object.keys(original).reduce(function (obj, key) {\n",
       "    if (typeof original[key] !== 'object')\n",
       "        obj[key] = original[key]\n",
       "    return obj;\n",
       "  }, {});\n",
       "}\n",
       "\n",
       "mpl.figure.prototype.mouse_event = function(event, name) {\n",
       "    var canvas_pos = mpl.findpos(event)\n",
       "\n",
       "    if (name === 'button_press')\n",
       "    {\n",
       "        this.canvas.focus();\n",
       "        this.canvas_div.focus();\n",
       "    }\n",
       "\n",
       "    var x = canvas_pos.x * mpl.ratio;\n",
       "    var y = canvas_pos.y * mpl.ratio;\n",
       "\n",
       "    this.send_message(name, {x: x, y: y, button: event.button,\n",
       "                             step: event.step,\n",
       "                             guiEvent: simpleKeys(event)});\n",
       "\n",
       "    /* This prevents the web browser from automatically changing to\n",
       "     * the text insertion cursor when the button is pressed.  We want\n",
       "     * to control all of the cursor setting manually through the\n",
       "     * 'cursor' event from matplotlib */\n",
       "    event.preventDefault();\n",
       "    return false;\n",
       "}\n",
       "\n",
       "mpl.figure.prototype._key_event_extra = function(event, name) {\n",
       "    // Handle any extra behaviour associated with a key event\n",
       "}\n",
       "\n",
       "mpl.figure.prototype.key_event = function(event, name) {\n",
       "\n",
       "    // Prevent repeat events\n",
       "    if (name == 'key_press')\n",
       "    {\n",
       "        if (event.which === this._key)\n",
       "            return;\n",
       "        else\n",
       "            this._key = event.which;\n",
       "    }\n",
       "    if (name == 'key_release')\n",
       "        this._key = null;\n",
       "\n",
       "    var value = '';\n",
       "    if (event.ctrlKey && event.which != 17)\n",
       "        value += \"ctrl+\";\n",
       "    if (event.altKey && event.which != 18)\n",
       "        value += \"alt+\";\n",
       "    if (event.shiftKey && event.which != 16)\n",
       "        value += \"shift+\";\n",
       "\n",
       "    value += 'k';\n",
       "    value += event.which.toString();\n",
       "\n",
       "    this._key_event_extra(event, name);\n",
       "\n",
       "    this.send_message(name, {key: value,\n",
       "                             guiEvent: simpleKeys(event)});\n",
       "    return false;\n",
       "}\n",
       "\n",
       "mpl.figure.prototype.toolbar_button_onclick = function(name) {\n",
       "    if (name == 'download') {\n",
       "        this.handle_save(this, null);\n",
       "    } else {\n",
       "        this.send_message(\"toolbar_button\", {name: name});\n",
       "    }\n",
       "};\n",
       "\n",
       "mpl.figure.prototype.toolbar_button_onmouseover = function(tooltip) {\n",
       "    this.message.textContent = tooltip;\n",
       "};\n",
       "mpl.toolbar_items = [[\"Home\", \"Reset original view\", \"fa fa-home icon-home\", \"home\"], [\"Back\", \"Back to previous view\", \"fa fa-arrow-left icon-arrow-left\", \"back\"], [\"Forward\", \"Forward to next view\", \"fa fa-arrow-right icon-arrow-right\", \"forward\"], [\"\", \"\", \"\", \"\"], [\"Pan\", \"Pan axes with left mouse, zoom with right\", \"fa fa-arrows icon-move\", \"pan\"], [\"Zoom\", \"Zoom to rectangle\", \"fa fa-square-o icon-check-empty\", \"zoom\"], [\"\", \"\", \"\", \"\"], [\"Download\", \"Download plot\", \"fa fa-floppy-o icon-save\", \"download\"]];\n",
       "\n",
       "mpl.extensions = [\"eps\", \"pdf\", \"png\", \"ps\", \"raw\", \"svg\"];\n",
       "\n",
       "mpl.default_extension = \"png\";var comm_websocket_adapter = function(comm) {\n",
       "    // Create a \"websocket\"-like object which calls the given IPython comm\n",
       "    // object with the appropriate methods. Currently this is a non binary\n",
       "    // socket, so there is still some room for performance tuning.\n",
       "    var ws = {};\n",
       "\n",
       "    ws.close = function() {\n",
       "        comm.close()\n",
       "    };\n",
       "    ws.send = function(m) {\n",
       "        //console.log('sending', m);\n",
       "        comm.send(m);\n",
       "    };\n",
       "    // Register the callback with on_msg.\n",
       "    comm.on_msg(function(msg) {\n",
       "        //console.log('receiving', msg['content']['data'], msg);\n",
       "        // Pass the mpl event to the overridden (by mpl) onmessage function.\n",
       "        ws.onmessage(msg['content']['data'])\n",
       "    });\n",
       "    return ws;\n",
       "}\n",
       "\n",
       "mpl.mpl_figure_comm = function(comm, msg) {\n",
       "    // This is the function which gets called when the mpl process\n",
       "    // starts-up an IPython Comm through the \"matplotlib\" channel.\n",
       "\n",
       "    var id = msg.content.data.id;\n",
       "    // Get hold of the div created by the display call when the Comm\n",
       "    // socket was opened in Python.\n",
       "    var element = $(\"#\" + id);\n",
       "    var ws_proxy = comm_websocket_adapter(comm)\n",
       "\n",
       "    function ondownload(figure, format) {\n",
       "        window.open(figure.imageObj.src);\n",
       "    }\n",
       "\n",
       "    var fig = new mpl.figure(id, ws_proxy,\n",
       "                           ondownload,\n",
       "                           element.get(0));\n",
       "\n",
       "    // Call onopen now - mpl needs it, as it is assuming we've passed it a real\n",
       "    // web socket which is closed, not our websocket->open comm proxy.\n",
       "    ws_proxy.onopen();\n",
       "\n",
       "    fig.parent_element = element.get(0);\n",
       "    fig.cell_info = mpl.find_output_cell(\"<div id='\" + id + \"'></div>\");\n",
       "    if (!fig.cell_info) {\n",
       "        console.error(\"Failed to find cell for figure\", id, fig);\n",
       "        return;\n",
       "    }\n",
       "\n",
       "    var output_index = fig.cell_info[2]\n",
       "    var cell = fig.cell_info[0];\n",
       "\n",
       "};\n",
       "\n",
       "mpl.figure.prototype.handle_close = function(fig, msg) {\n",
       "    var width = fig.canvas.width/mpl.ratio\n",
       "    fig.root.unbind('remove')\n",
       "\n",
       "    // Update the output cell to use the data from the current canvas.\n",
       "    fig.push_to_output();\n",
       "    var dataURL = fig.canvas.toDataURL();\n",
       "    // Re-enable the keyboard manager in IPython - without this line, in FF,\n",
       "    // the notebook keyboard shortcuts fail.\n",
       "    IPython.keyboard_manager.enable()\n",
       "    $(fig.parent_element).html('<img src=\"' + dataURL + '\" width=\"' + width + '\">');\n",
       "    fig.close_ws(fig, msg);\n",
       "}\n",
       "\n",
       "mpl.figure.prototype.close_ws = function(fig, msg){\n",
       "    fig.send_message('closing', msg);\n",
       "    // fig.ws.close()\n",
       "}\n",
       "\n",
       "mpl.figure.prototype.push_to_output = function(remove_interactive) {\n",
       "    // Turn the data on the canvas into data in the output cell.\n",
       "    var width = this.canvas.width/mpl.ratio\n",
       "    var dataURL = this.canvas.toDataURL();\n",
       "    this.cell_info[1]['text/html'] = '<img src=\"' + dataURL + '\" width=\"' + width + '\">';\n",
       "}\n",
       "\n",
       "mpl.figure.prototype.updated_canvas_event = function() {\n",
       "    // Tell IPython that the notebook contents must change.\n",
       "    IPython.notebook.set_dirty(true);\n",
       "    this.send_message(\"ack\", {});\n",
       "    var fig = this;\n",
       "    // Wait a second, then push the new image to the DOM so\n",
       "    // that it is saved nicely (might be nice to debounce this).\n",
       "    setTimeout(function () { fig.push_to_output() }, 1000);\n",
       "}\n",
       "\n",
       "mpl.figure.prototype._init_toolbar = function() {\n",
       "    var fig = this;\n",
       "\n",
       "    var nav_element = $('<div/>');\n",
       "    nav_element.attr('style', 'width: 100%');\n",
       "    this.root.append(nav_element);\n",
       "\n",
       "    // Define a callback function for later on.\n",
       "    function toolbar_event(event) {\n",
       "        return fig.toolbar_button_onclick(event['data']);\n",
       "    }\n",
       "    function toolbar_mouse_event(event) {\n",
       "        return fig.toolbar_button_onmouseover(event['data']);\n",
       "    }\n",
       "\n",
       "    for(var toolbar_ind in mpl.toolbar_items){\n",
       "        var name = mpl.toolbar_items[toolbar_ind][0];\n",
       "        var tooltip = mpl.toolbar_items[toolbar_ind][1];\n",
       "        var image = mpl.toolbar_items[toolbar_ind][2];\n",
       "        var method_name = mpl.toolbar_items[toolbar_ind][3];\n",
       "\n",
       "        if (!name) { continue; };\n",
       "\n",
       "        var button = $('<button class=\"btn btn-default\" href=\"#\" title=\"' + name + '\"><i class=\"fa ' + image + ' fa-lg\"></i></button>');\n",
       "        button.click(method_name, toolbar_event);\n",
       "        button.mouseover(tooltip, toolbar_mouse_event);\n",
       "        nav_element.append(button);\n",
       "    }\n",
       "\n",
       "    // Add the status bar.\n",
       "    var status_bar = $('<span class=\"mpl-message\" style=\"text-align:right; float: right;\"/>');\n",
       "    nav_element.append(status_bar);\n",
       "    this.message = status_bar[0];\n",
       "\n",
       "    // Add the close button to the window.\n",
       "    var buttongrp = $('<div class=\"btn-group inline pull-right\"></div>');\n",
       "    var button = $('<button class=\"btn btn-mini btn-primary\" href=\"#\" title=\"Stop Interaction\"><i class=\"fa fa-power-off icon-remove icon-large\"></i></button>');\n",
       "    button.click(function (evt) { fig.handle_close(fig, {}); } );\n",
       "    button.mouseover('Stop Interaction', toolbar_mouse_event);\n",
       "    buttongrp.append(button);\n",
       "    var titlebar = this.root.find($('.ui-dialog-titlebar'));\n",
       "    titlebar.prepend(buttongrp);\n",
       "}\n",
       "\n",
       "mpl.figure.prototype._root_extra_style = function(el){\n",
       "    var fig = this\n",
       "    el.on(\"remove\", function(){\n",
       "\tfig.close_ws(fig, {});\n",
       "    });\n",
       "}\n",
       "\n",
       "mpl.figure.prototype._canvas_extra_style = function(el){\n",
       "    // this is important to make the div 'focusable\n",
       "    el.attr('tabindex', 0)\n",
       "    // reach out to IPython and tell the keyboard manager to turn it's self\n",
       "    // off when our div gets focus\n",
       "\n",
       "    // location in version 3\n",
       "    if (IPython.notebook.keyboard_manager) {\n",
       "        IPython.notebook.keyboard_manager.register_events(el);\n",
       "    }\n",
       "    else {\n",
       "        // location in version 2\n",
       "        IPython.keyboard_manager.register_events(el);\n",
       "    }\n",
       "\n",
       "}\n",
       "\n",
       "mpl.figure.prototype._key_event_extra = function(event, name) {\n",
       "    var manager = IPython.notebook.keyboard_manager;\n",
       "    if (!manager)\n",
       "        manager = IPython.keyboard_manager;\n",
       "\n",
       "    // Check for shift+enter\n",
       "    if (event.shiftKey && event.which == 13) {\n",
       "        this.canvas_div.blur();\n",
       "        // select the cell after this one\n",
       "        var index = IPython.notebook.find_cell_index(this.cell_info[0]);\n",
       "        IPython.notebook.select(index + 1);\n",
       "    }\n",
       "}\n",
       "\n",
       "mpl.figure.prototype.handle_save = function(fig, msg) {\n",
       "    fig.ondownload(fig, null);\n",
       "}\n",
       "\n",
       "\n",
       "mpl.find_output_cell = function(html_output) {\n",
       "    // Return the cell and output element which can be found *uniquely* in the notebook.\n",
       "    // Note - this is a bit hacky, but it is done because the \"notebook_saving.Notebook\"\n",
       "    // IPython event is triggered only after the cells have been serialised, which for\n",
       "    // our purposes (turning an active figure into a static one), is too late.\n",
       "    var cells = IPython.notebook.get_cells();\n",
       "    var ncells = cells.length;\n",
       "    for (var i=0; i<ncells; i++) {\n",
       "        var cell = cells[i];\n",
       "        if (cell.cell_type === 'code'){\n",
       "            for (var j=0; j<cell.output_area.outputs.length; j++) {\n",
       "                var data = cell.output_area.outputs[j];\n",
       "                if (data.data) {\n",
       "                    // IPython >= 3 moved mimebundle to data attribute of output\n",
       "                    data = data.data;\n",
       "                }\n",
       "                if (data['text/html'] == html_output) {\n",
       "                    return [cell, data, j];\n",
       "                }\n",
       "            }\n",
       "        }\n",
       "    }\n",
       "}\n",
       "\n",
       "// Register the function which deals with the matplotlib target/channel.\n",
       "// The kernel may be null if the page has been refreshed.\n",
       "if (IPython.notebook.kernel != null) {\n",
       "    IPython.notebook.kernel.comm_manager.register_target('matplotlib', mpl.mpl_figure_comm);\n",
       "}\n"
      ],
      "text/plain": [
       "<IPython.core.display.Javascript object>"
      ]
     },
     "metadata": {},
     "output_type": "display_data"
    },
    {
     "data": {
      "text/html": [
       "<img src=\"data:image/png;base64,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\" width=\"720\">"
      ],
      "text/plain": [
       "<IPython.core.display.HTML object>"
      ]
     },
     "metadata": {},
     "output_type": "display_data"
    }
   ],
   "source": [
    "labels = \"Problematic Loans\", \"Good Loans\"\n",
    "sizes = [df[\"problematic_loan\"].sum()/len(df), 1 - df[\"problematic_loan\"].sum()/len(df)]\n",
    "\n",
    "\n",
    "plt.figure(figsize=(10,5))\n",
    "plt.pie(sizes, labels=labels, autopct='%1.1f%%',\n",
    "        shadow=True)\n",
    "\n",
    "plt.show()"
   ]
  },
  {
   "cell_type": "markdown",
   "metadata": {},
   "source": [
    "The dataset is slightly imbalanced. I will return to this issue at the end of the data preparation section"
   ]
  },
  {
   "cell_type": "markdown",
   "metadata": {},
   "source": [
    "<a id='1.2'></a>"
   ]
  },
  {
   "cell_type": "markdown",
   "metadata": {},
   "source": [
    "## 1.2 Filter data to information available at loan issuance\n",
    "The original data file contains a lot ofm,ore information which were not available yet at loan issuance. Therefore this information cannot be used to predict loan risk. Through careful inspection, I have created the following list with all variables available at loan issuance and will use it to filter the data.  "
   ]
  },
  {
   "cell_type": "code",
   "execution_count": 12,
   "metadata": {},
   "outputs": [],
   "source": [
    "available_features = ['acc_now_delinq', 'acc_open_past_24mths', 'addr_state',\n",
    " 'all_util', 'annual_inc', 'annual_inc_joint', 'application_type', 'avg_cur_bal',\n",
    " 'bc_open_to_buy', 'bc_util', 'chargeoff_within_12_mths', 'collections_12_mths_ex_med',\n",
    " 'delinq_2yrs', 'delinq_amnt', 'desc', 'disbursement_method', 'dti', 'dti_joint',\n",
    " 'earliest_cr_line', 'emp_length', 'emp_title', 'fico_range_high', 'fico_range_low',\n",
    " 'funded_amnt', 'grade', 'home_ownership', 'id', 'il_util', 'initial_list_status',\n",
    " 'inq_fi', 'inq_last_12m', 'inq_last_6mths', 'installment', 'int_rate', 'loan_amnt',\n",
    " 'max_bal_bc', 'member_id', 'mo_sin_old_il_acct', 'mo_sin_old_rev_tl_op', 'mo_sin_rcnt_rev_tl_op',\n",
    " 'mo_sin_rcnt_tl', 'mort_acc', 'mths_since_last_delinq', 'mths_since_last_major_derog',\n",
    " 'mths_since_last_record', 'mths_since_rcnt_il', 'mths_since_recent_bc', 'mths_since_recent_bc_dlq',\n",
    " 'mths_since_recent_inq', 'mths_since_recent_revol_delinq', 'num_accts_ever_120_pd',\n",
    " 'num_actv_bc_tl', 'num_actv_rev_tl', 'num_bc_sats', 'num_bc_tl', 'num_il_tl',\n",
    " 'num_op_rev_tl', 'num_rev_accts', 'num_rev_tl_bal_gt_0', 'num_sats', 'num_tl_120dpd_2m',\n",
    " 'num_tl_30dpd', 'num_tl_90g_dpd_24m', 'num_tl_op_past_12m', 'open_acc', 'open_acc_6m',\n",
    " 'open_act_il', 'open_il_12m', 'open_il_24m', 'open_rv_12m', 'open_rv_24m', 'pct_tl_nvr_dlq',\n",
    " 'percent_bc_gt_75', 'pub_rec', 'pub_rec_bankruptcies', 'purpose', 'revol_bal',\n",
    " 'revol_bal_joint', 'revol_util', 'sec_app_chargeoff_within_12_mths', 'sec_app_collections_12_mths_ex_med',\n",
    " 'sec_app_earliest_cr_line', 'sec_app_fico_range_high', 'sec_app_fico_range_low',\n",
    " 'sec_app_inq_last_6mths', 'sec_app_mort_acc', 'sec_app_mths_since_last_major_derog',\n",
    " 'sec_app_num_rev_accts', 'sec_app_open_acc', 'sec_app_open_act_il', 'sec_app_revol_util',\n",
    " 'sub_grade', 'tax_liens', 'term', 'title', 'tot_coll_amt', 'tot_cur_bal', 'tot_hi_cred_lim',\n",
    " 'total_acc', 'total_bal_ex_mort', 'total_bal_il', 'total_bc_limit', 'total_cu_tl',\n",
    " 'total_il_high_credit_limit', 'total_rev_hi_lim', 'url', 'verification_status',\n",
    " 'verification_status_joint', 'zip_code', 'problematic_loan']"
   ]
  },
  {
   "cell_type": "code",
   "execution_count": 13,
   "metadata": {},
   "outputs": [],
   "source": [
    "df_filter = df[available_features]"
   ]
  },
  {
   "cell_type": "code",
   "execution_count": 14,
   "metadata": {
    "scrolled": true
   },
   "outputs": [
    {
     "name": "stdout",
     "output_type": "stream",
     "text": [
      "<class 'pandas.core.frame.DataFrame'>\n",
      "Int64Index: 1382384 entries, 0 to 2260700\n",
      "Columns: 110 entries, acc_now_delinq to problematic_loan\n",
      "dtypes: float64(89), int64(1), object(20)\n",
      "memory usage: 1.1+ GB\n"
     ]
    }
   ],
   "source": [
    "df_filter.info()"
   ]
  },
  {
   "cell_type": "markdown",
   "metadata": {},
   "source": [
    "The file contains over 1 million loans and 109 variables describing each loan and customer. "
   ]
  },
  {
   "cell_type": "markdown",
   "metadata": {},
   "source": [
    "<a id='2.'></a>"
   ]
  },
  {
   "cell_type": "markdown",
   "metadata": {},
   "source": [
    "# 2. Exploratory Data Analysis & Data Preparation"
   ]
  },
  {
   "cell_type": "code",
   "execution_count": 15,
   "metadata": {},
   "outputs": [
    {
     "ename": "TypeError",
     "evalue": "concat() got an unexpected keyword argument 'join_axes'",
     "output_type": "error",
     "traceback": [
      "\u001b[1;31m---------------------------------------------------------------------------\u001b[0m",
      "\u001b[1;31mTypeError\u001b[0m                                 Traceback (most recent call last)",
      "\u001b[1;32m<ipython-input-15-e17510295e19>\u001b[0m in \u001b[0;36m<module>\u001b[1;34m\u001b[0m\n\u001b[1;32m----> 1\u001b[1;33m \u001b[0mpp\u001b[0m\u001b[1;33m.\u001b[0m\u001b[0mProfileReport\u001b[0m\u001b[1;33m(\u001b[0m\u001b[0mdf_filter\u001b[0m\u001b[1;33m)\u001b[0m\u001b[1;33m\u001b[0m\u001b[1;33m\u001b[0m\u001b[0m\n\u001b[0m",
      "\u001b[1;32mC:\\ProgramData\\Anaconda3\\lib\\site-packages\\pandas_profiling\\__init__.py\u001b[0m in \u001b[0;36m__init__\u001b[1;34m(self, df, **kwargs)\u001b[0m\n\u001b[0;32m     64\u001b[0m         \u001b[0msample\u001b[0m \u001b[1;33m=\u001b[0m \u001b[0mkwargs\u001b[0m\u001b[1;33m.\u001b[0m\u001b[0mget\u001b[0m\u001b[1;33m(\u001b[0m\u001b[1;34m'sample'\u001b[0m\u001b[1;33m,\u001b[0m \u001b[0mdf\u001b[0m\u001b[1;33m.\u001b[0m\u001b[0mhead\u001b[0m\u001b[1;33m(\u001b[0m\u001b[1;33m)\u001b[0m\u001b[1;33m)\u001b[0m\u001b[1;33m\u001b[0m\u001b[1;33m\u001b[0m\u001b[0m\n\u001b[0;32m     65\u001b[0m \u001b[1;33m\u001b[0m\u001b[0m\n\u001b[1;32m---> 66\u001b[1;33m         \u001b[0mdescription_set\u001b[0m \u001b[1;33m=\u001b[0m \u001b[0mdescribe\u001b[0m\u001b[1;33m(\u001b[0m\u001b[0mdf\u001b[0m\u001b[1;33m,\u001b[0m \u001b[1;33m**\u001b[0m\u001b[0mkwargs\u001b[0m\u001b[1;33m)\u001b[0m\u001b[1;33m\u001b[0m\u001b[1;33m\u001b[0m\u001b[0m\n\u001b[0m\u001b[0;32m     67\u001b[0m \u001b[1;33m\u001b[0m\u001b[0m\n\u001b[0;32m     68\u001b[0m         self.html = to_html(sample,\n",
      "\u001b[1;32mC:\\ProgramData\\Anaconda3\\lib\\site-packages\\pandas_profiling\\describe.py\u001b[0m in \u001b[0;36mdescribe\u001b[1;34m(df, bins, check_correlation, correlation_threshold, correlation_overrides, check_recoded, pool_size, **kwargs)\u001b[0m\n\u001b[0;32m    390\u001b[0m             \u001b[1;32mif\u001b[0m \u001b[0mname\u001b[0m \u001b[1;32mnot\u001b[0m \u001b[1;32min\u001b[0m \u001b[0mnames\u001b[0m\u001b[1;33m:\u001b[0m\u001b[1;33m\u001b[0m\u001b[1;33m\u001b[0m\u001b[0m\n\u001b[0;32m    391\u001b[0m                 \u001b[0mnames\u001b[0m\u001b[1;33m.\u001b[0m\u001b[0mappend\u001b[0m\u001b[1;33m(\u001b[0m\u001b[0mname\u001b[0m\u001b[1;33m)\u001b[0m\u001b[1;33m\u001b[0m\u001b[1;33m\u001b[0m\u001b[0m\n\u001b[1;32m--> 392\u001b[1;33m     \u001b[0mvariable_stats\u001b[0m \u001b[1;33m=\u001b[0m \u001b[0mpd\u001b[0m\u001b[1;33m.\u001b[0m\u001b[0mconcat\u001b[0m\u001b[1;33m(\u001b[0m\u001b[0mldesc\u001b[0m\u001b[1;33m,\u001b[0m \u001b[0mjoin_axes\u001b[0m\u001b[1;33m=\u001b[0m\u001b[0mpd\u001b[0m\u001b[1;33m.\u001b[0m\u001b[0mIndex\u001b[0m\u001b[1;33m(\u001b[0m\u001b[1;33m[\u001b[0m\u001b[0mnames\u001b[0m\u001b[1;33m]\u001b[0m\u001b[1;33m)\u001b[0m\u001b[1;33m,\u001b[0m \u001b[0maxis\u001b[0m\u001b[1;33m=\u001b[0m\u001b[1;36m1\u001b[0m\u001b[1;33m)\u001b[0m\u001b[1;33m\u001b[0m\u001b[1;33m\u001b[0m\u001b[0m\n\u001b[0m\u001b[0;32m    393\u001b[0m     \u001b[0mvariable_stats\u001b[0m\u001b[1;33m.\u001b[0m\u001b[0mcolumns\u001b[0m\u001b[1;33m.\u001b[0m\u001b[0mnames\u001b[0m \u001b[1;33m=\u001b[0m \u001b[0mdf\u001b[0m\u001b[1;33m.\u001b[0m\u001b[0mcolumns\u001b[0m\u001b[1;33m.\u001b[0m\u001b[0mnames\u001b[0m\u001b[1;33m\u001b[0m\u001b[1;33m\u001b[0m\u001b[0m\n\u001b[0;32m    394\u001b[0m \u001b[1;33m\u001b[0m\u001b[0m\n",
      "\u001b[1;31mTypeError\u001b[0m: concat() got an unexpected keyword argument 'join_axes'"
     ]
    }
   ],
   "source": [
    "pp.ProfileReport(df_filter)"
   ]
  },
  {
   "cell_type": "markdown",
   "metadata": {},
   "source": [
    "<a id='2.1'></a>"
   ]
  },
  {
   "cell_type": "markdown",
   "metadata": {},
   "source": [
    "# 2.1 Text Columns & Feature Engineering"
   ]
  },
  {
   "cell_type": "code",
   "execution_count": 137,
   "metadata": {},
   "outputs": [
    {
     "name": "stdout",
     "output_type": "stream",
     "text": [
      "addr_state has 51 unique values.\n",
      "application_type has 2 unique values.\n",
      "Individual    1352767\n",
      "Joint App       29584\n",
      "Name: application_type, dtype: int64\n",
      "desc has 124416 unique values.\n",
      "disbursement_method has 2 unique values.\n",
      "Cash         1374460\n",
      "DirectPay       7891\n",
      "Name: disbursement_method, dtype: int64\n",
      "earliest_cr_line has 739 unique values.\n",
      "emp_length has 11 unique values.\n",
      "emp_title has 385454 unique values.\n",
      "grade has 7 unique values.\n",
      "B    400654\n",
      "C    394346\n",
      "A    237488\n",
      "D    209286\n",
      "E     97559\n",
      "F     33315\n",
      "G      9703\n",
      "Name: grade, dtype: int64\n",
      "home_ownership has 6 unique values.\n",
      "MORTGAGE    682142\n",
      "RENT        550448\n",
      "OWN         149215\n",
      "ANY            311\n",
      "OTHER          182\n",
      "NONE            53\n",
      "Name: home_ownership, dtype: int64\n",
      "id has 1382384 unique values.\n",
      "initial_list_status has 2 unique values.\n",
      "w    810885\n",
      "f    571466\n",
      "Name: initial_list_status, dtype: int64\n",
      "purpose has 14 unique values.\n",
      "sec_app_earliest_cr_line has 585 unique values.\n",
      "sub_grade has 35 unique values.\n",
      "term has 2 unique values.\n",
      " 36 months    1043059\n",
      " 60 months     339292\n",
      "Name: term, dtype: int64\n",
      "title has 63154 unique values.\n",
      "url has 1382351 unique values.\n",
      "verification_status has 3 unique values.\n",
      "Source Verified    536031\n",
      "Verified           429617\n",
      "Not Verified       416703\n",
      "Name: verification_status, dtype: int64\n",
      "verification_status_joint has 3 unique values.\n",
      "Not Verified       16471\n",
      "Source Verified     7504\n",
      "Verified            5353\n",
      "Name: verification_status_joint, dtype: int64\n",
      "zip_code has 946 unique values.\n"
     ]
    }
   ],
   "source": [
    "#List all text columns\n",
    "for c in df_filter.columns:\n",
    "    if df_filter[c].dtype  == \"object\":\n",
    "        print(c, \"has\", df_filter[c].nunique(), \"unique values.\")\n",
    "        if df_filter[c].nunique() < 11: \n",
    "                print(df_filter[c].value_counts())"
   ]
  },
  {
   "cell_type": "markdown",
   "metadata": {},
   "source": [
    "### Creating dummy variables \n",
    "As we can see abosve, some text columns are binary. I inspected them further and decided to transform the ones which I consider potentially predictive to dummy varibles:"
   ]
  },
  {
   "cell_type": "code",
   "execution_count": 138,
   "metadata": {},
   "outputs": [],
   "source": [
    "#Creating dummy variables from potentially interesting binary categorical variables: \n",
    "df_dummies = pd.get_dummies(df_filter, columns=[\"term\",\"application_type\", 'disbursement_method'])"
   ]
  },
  {
   "cell_type": "markdown",
   "metadata": {},
   "source": [
    "### Feature Engineering\n",
    "\n",
    "With more exploration, I identified a few text columns with binary values. 3 text variables which have \n",
    "interesting information: <br>\n",
    "- \"purpose\" indicates whether a customer already had prior debt\n",
    "- \"home_ownership\" indicates whether someone owns a house with or without mortgage \n",
    "- \"grade\" refers to credit score grade <br>\n",
    "<br>\n",
    "I transform the first two variables into binary dummy variables and grade into a continuos variable. \n",
    "\n",
    "**Prior debt from purpose**"
   ]
  },
  {
   "cell_type": "code",
   "execution_count": 139,
   "metadata": {},
   "outputs": [
    {
     "data": {
      "text/plain": [
       "Text(0.5, 1.0, 'Prior Debt')"
      ]
     },
     "execution_count": 139,
     "metadata": {},
     "output_type": "execute_result"
    },
    {
     "data": {
      "image/png": "[encoded data removed]",
      "text/plain": [
       "<Figure size 576x288 with 1 Axes>"
      ]
     },
     "metadata": {},
     "output_type": "display_data"
    }
   ],
   "source": [
    "def check_prior_debt(s):\n",
    "    if s in [\"debt_consolidation\", \"credit_card\"]:\n",
    "        return 1\n",
    "    else:\n",
    "        return 0\n",
    "    \n",
    "df_dummies[\"prior_debt\"] = df_dummies[\"purpose\"].apply(check_prior_debt)\n",
    "\n",
    "#Most loaners had prior debt: \n",
    "plt.figure(figsize=(8,4))\n",
    "sns.countplot(df_dummies[\"prior_debt\"])\n",
    "plt.title(\"Prior Debt\")"
   ]
  },
  {
   "cell_type": "markdown",
   "metadata": {},
   "source": [
    "**Home ownership and mortgage**"
   ]
  },
  {
   "cell_type": "code",
   "execution_count": 140,
   "metadata": {},
   "outputs": [
    {
     "data": {
      "text/plain": [
       "Text(0.5, 1.0, 'Home ownership')"
      ]
     },
     "execution_count": 140,
     "metadata": {},
     "output_type": "execute_result"
    },
    {
     "data": {
      "image/png": "[encoded data removed]",
      "text/plain": [
       "<Figure size 576x288 with 1 Axes>"
      ]
     },
     "metadata": {},
     "output_type": "display_data"
    }
   ],
   "source": [
    "df_dummies[\"home_owner\"] = df_dummies[\"home_ownership\"].apply(lambda s: int(s == \"OWN\"))\n",
    "df_dummies[\"mortgage\"] = df_dummies[\"home_ownership\"].apply(lambda s: int(s == \"MORTGAGE\"))\n",
    "\n",
    "#Few loaners own a house without mortgage: \n",
    "plt.figure(figsize=(8,4))\n",
    "sns.countplot(df_dummies[\"home_ownership\"])\n",
    "plt.title(\"Home ownership\")"
   ]
  },
  {
   "cell_type": "markdown",
   "metadata": {},
   "source": [
    "**Credit Card Score**"
   ]
  },
  {
   "cell_type": "code",
   "execution_count": 141,
   "metadata": {},
   "outputs": [
    {
     "data": {
      "text/plain": [
       "B    400654\n",
       "C    394346\n",
       "A    237488\n",
       "D    209286\n",
       "E     97559\n",
       "F     33315\n",
       "G      9703\n",
       "Name: grade, dtype: int64"
      ]
     },
     "execution_count": 141,
     "metadata": {},
     "output_type": "execute_result"
    }
   ],
   "source": [
    "df_dummies[\"grade\"].value_counts()"
   ]
  },
  {
   "cell_type": "code",
   "execution_count": 142,
   "metadata": {},
   "outputs": [
    {
     "data": {
      "text/plain": [
       "<matplotlib.axes._subplots.AxesSubplot at 0x1a681290548>"
      ]
     },
     "execution_count": 142,
     "metadata": {},
     "output_type": "execute_result"
    },
    {
     "data": {
      "image/png": "[encoded data removed]",
      "text/plain": [
       "<Figure size 432x288 with 1 Axes>"
      ]
     },
     "metadata": {},
     "output_type": "display_data"
    }
   ],
   "source": [
    "cs_convert = {\"A\": 1, \"B\": 2, \"C\": 3, \"D\": 4, \"E\": 5, \"F\": 6, \"G\": 7, \"NaN\": np.nan}\n",
    "df_dummies[\"credit_score\"] = df_dummies[\"grade\"].apply(lambda s: cs_convert[s] if pd.notnull(s) else s)\n",
    "\n",
    "sns.countplot(df_dummies[df_dummies[\"credit_score\"].notnull()][\"credit_score\"])"
   ]
  },
  {
   "cell_type": "markdown",
   "metadata": {},
   "source": [
    "### Delete text columns\n",
    "After having engineered new features from some text columns and turned others into dummy variables, \n",
    "I will delete all text columns:"
   ]
  },
  {
   "cell_type": "code",
   "execution_count": 143,
   "metadata": {},
   "outputs": [],
   "source": [
    "#Delete text columns irrelevant for modeling\n",
    "df_dummies.drop(['id', 'member_id', 'emp_title', 'url', 'desc', 'zip_code', 'title', 'sub_grade', 'emp_title', \n",
    "         'emp_length', 'purpose', 'addr_state', 'earliest_cr_line', 'sec_app_earliest_cr_line', 'home_ownership', 'home_ownership', 'initial_list_status', \n",
    "         'grade', 'verification_status', 'verification_status_joint'], \n",
    "        axis=1, inplace=True)"
   ]
  },
  {
   "cell_type": "markdown",
   "metadata": {},
   "source": [
    "<a id='2.2'></a>"
   ]
  },
  {
   "cell_type": "markdown",
   "metadata": {},
   "source": [
    "### 2.2 Missing Data"
   ]
  },
  {
   "cell_type": "markdown",
   "metadata": {},
   "source": [
    "Over 2 million loans is a lot of data to process. To speed up the subsequent modeling process, I will delete rows and columns with a lot of missings."
   ]
  },
  {
   "cell_type": "markdown",
   "metadata": {},
   "source": [
    "**Missings per column**"
   ]
  },
  {
   "cell_type": "code",
   "execution_count": 144,
   "metadata": {},
   "outputs": [
    {
     "data": {
      "text/plain": [
       "Text(0.5, 0, 'Columns')"
      ]
     },
     "execution_count": 144,
     "metadata": {},
     "output_type": "execute_result"
    },
    {
     "data": {
      "image/png": "[encoded data removed]",
      "text/plain": [
       "<Figure size 432x288 with 1 Axes>"
      ]
     },
     "metadata": {},
     "output_type": "display_data"
    }
   ],
   "source": [
    "missings_column = df_dummies.isnull().sum(axis=0).unique().tolist()\n",
    "#Get the percentage of missing values per column\n",
    "plt.plot([s/len(df_dummies) for s in sorted(missings_column, reverse=True)], marker=\"o\")\n",
    "plt.ylabel(\"Percent missing\")\n",
    "plt.xlabel(\"Columns\")"
   ]
  },
  {
   "cell_type": "markdown",
   "metadata": {},
   "source": [
    "There are columns with many missing but then there is a sudden drop from 50% to 13% missing. I will exclude all columns with more than 50% missing:"
   ]
  },
  {
   "cell_type": "code",
   "execution_count": 182,
   "metadata": {},
   "outputs": [],
   "source": [
    "df_nomiss = df_dummies.dropna(axis=1, thresh=df_dummies.shape[0]*.50)"
   ]
  },
  {
   "cell_type": "markdown",
   "metadata": {},
   "source": [
    "**Missings per row**"
   ]
  },
  {
   "cell_type": "code",
   "execution_count": 173,
   "metadata": {},
   "outputs": [
    {
     "data": {
      "text/plain": [
       "Text(0.5, 0, 'Rows')"
      ]
     },
     "execution_count": 173,
     "metadata": {},
     "output_type": "execute_result"
    },
    {
     "data": {
      "image/png": "[encoded data removed]",
      "text/plain": [
       "<Figure size 432x288 with 1 Axes>"
      ]
     },
     "metadata": {},
     "output_type": "display_data"
    }
   ],
   "source": [
    "missings_row = df_nomiss.isnull().sum(axis=1).unique().tolist()\n",
    "#Get the percentage of missing values per column\n",
    "plt.plot([s/df_nomiss.shape[1] for s in sorted(missings_row, reverse=True)], marker=\"o\")\n",
    "plt.ylabel(\"Percent missing\")\n",
    "plt.xlabel(\"Rows\")"
   ]
  },
  {
   "cell_type": "markdown",
   "metadata": {},
   "source": [
    "There is a jump from around 35% to 12% missing in a row. I will drop all cases with at least 35% missing. "
   ]
  },
  {
   "cell_type": "code",
   "execution_count": 183,
   "metadata": {},
   "outputs": [],
   "source": [
    "df_nomiss = df_nomiss.dropna(axis=0, thresh=0.6*df_nomiss.shape[1])"
   ]
  },
  {
   "cell_type": "markdown",
   "metadata": {},
   "source": [
    "*Quick look at the proprocessed data:*"
   ]
  },
  {
   "cell_type": "code",
   "execution_count": 184,
   "metadata": {},
   "outputs": [
    {
     "data": {
      "text/plain": [
       "(1332067, 66)"
      ]
     },
     "execution_count": 184,
     "metadata": {},
     "output_type": "execute_result"
    }
   ],
   "source": [
    "df_nomiss.shape"
   ]
  },
  {
   "cell_type": "code",
   "execution_count": 185,
   "metadata": {},
   "outputs": [
    {
     "data": {
      "image/png": "[encoded data removed]",
      "text/plain": [
       "<Figure size 720x360 with 1 Axes>"
      ]
     },
     "metadata": {},
     "output_type": "display_data"
    }
   ],
   "source": [
    "labels = \"Problematic Loans\", \"Good Loans\"\n",
    "sizes = [df_nomiss[\"problematic_loan\"].sum()/len(df_nomiss), 1 - df_nomiss[\"problematic_loan\"].sum()/len(df_nomiss)]\n",
    "\n",
    "\n",
    "plt.figure(figsize=(10,5))\n",
    "plt.pie(sizes, labels=labels, autopct='%1.1f%%',\n",
    "        shadow=True)\n",
    "\n",
    "plt.show()"
   ]
  },
  {
   "cell_type": "markdown",
   "metadata": {},
   "source": [
    "The removal of rows and columns based on missings has not changed the relative amount of problematic loans. This is good because there was no systematic connection between the problematic loans and these missing data. There are still over 1.3 million cases and 65 features.  "
   ]
  },
  {
   "cell_type": "markdown",
   "metadata": {},
   "source": [
    "<a id='2.3'></a>"
   ]
  },
  {
   "cell_type": "markdown",
   "metadata": {},
   "source": [
    "## 2.3 Undersampling & Train-Test-Split"
   ]
  },
  {
   "cell_type": "markdown",
   "metadata": {},
   "source": [
    "1.3 million cases is a lot and will slow down modeling. I will reduce it to approximately 200,000 cases.\n",
    "\n",
    "This is also an imbalanced dataset where the target \"problematic loans\" is underrepresented by a ratio of about  4:1. There is no a-priori way of knowing whether the imbalance will negatively affect model performance. Furthermore, some models also have built-in \"cost-senstive\" techniques which give more weight to the underrepresented class. Thus, I will create **a balanced resampled dataset and an imbalanced resampled dataset** (leaving the distribution \"as is\") and will train and test with both, to find the best model fit. \n",
    "\n",
    "**Balanced Resampled Dataset**"
   ]
  },
  {
   "cell_type": "code",
   "execution_count": 186,
   "metadata": {},
   "outputs": [],
   "source": [
    "good_loans = df_nomiss[df_nomiss[\"problematic_loan\"] == 0]\n",
    "problematic_loans = df_nomiss[df_nomiss[\"problematic_loan\"] == 1]"
   ]
  },
  {
   "cell_type": "markdown",
   "metadata": {},
   "source": [
    "In the next step, I resample a higher fraction from the problematic loans, which results in a balanced dataset."
   ]
  },
  {
   "cell_type": "code",
   "execution_count": 187,
   "metadata": {},
   "outputs": [],
   "source": [
    "balanced_subsample_good = good_loans.sample(frac = 0.1)\n",
    "balanced_subsample_problematic = problematic_loans.sample(frac = 0.3)"
   ]
  },
  {
   "cell_type": "code",
   "execution_count": 188,
   "metadata": {},
   "outputs": [],
   "source": [
    "balanced_subsample = pd.concat([balanced_subsample_problematic, balanced_subsample_good])"
   ]
  },
  {
   "cell_type": "code",
   "execution_count": 189,
   "metadata": {},
   "outputs": [
    {
     "data": {
      "text/plain": [
       "(192387, 66)"
      ]
     },
     "execution_count": 189,
     "metadata": {},
     "output_type": "execute_result"
    }
   ],
   "source": [
    "balanced_subsample.shape"
   ]
  },
  {
   "cell_type": "code",
   "execution_count": 190,
   "metadata": {},
   "outputs": [
    {
     "data": {
      "image/png": "[encoded data removed]",
      "text/plain": [
       "<Figure size 720x360 with 1 Axes>"
      ]
     },
     "metadata": {},
     "output_type": "display_data"
    }
   ],
   "source": [
    "labels = \"Problematic Loans\", \"Good Loans\"\n",
    "sizes = [balanced_subsample[\"problematic_loan\"].sum()/len(balanced_subsample), 1 - balanced_subsample[\"problematic_loan\"].sum()/len(balanced_subsample)]\n",
    "\n",
    "\n",
    "plt.figure(figsize=(10,5))\n",
    "plt.pie(sizes, labels=labels, autopct='%1.1f%%',\n",
    "        shadow=True)\n",
    "plt.title(\"Balanced subsample\")\n",
    "plt.show()"
   ]
  },
  {
   "cell_type": "code",
   "execution_count": 191,
   "metadata": {},
   "outputs": [],
   "source": [
    "y_balanced = balanced_subsample[\"problematic_loan\"]\n",
    "X_balanced = balanced_subsample.drop(\"problematic_loan\", axis=1)"
   ]
  },
  {
   "cell_type": "markdown",
   "metadata": {},
   "source": [
    "**Imbalanced Resampled Dataset**\n",
    "\n",
    "This time I will use the separate datasets for good and problematic to ensure that the distributions are preserved."
   ]
  },
  {
   "cell_type": "code",
   "execution_count": 192,
   "metadata": {},
   "outputs": [],
   "source": [
    "imbalanced_subsample_good = good_loans.sample(frac = 0.15)\n",
    "imbalanced_subsample_problematic = problematic_loans.sample(frac = 0.15)"
   ]
  },
  {
   "cell_type": "code",
   "execution_count": 193,
   "metadata": {},
   "outputs": [],
   "source": [
    "imbalanced_subsample = pd.concat([imbalanced_subsample_problematic, imbalanced_subsample_good])"
   ]
  },
  {
   "cell_type": "code",
   "execution_count": 194,
   "metadata": {},
   "outputs": [
    {
     "data": {
      "text/plain": [
       "(199810, 66)"
      ]
     },
     "execution_count": 194,
     "metadata": {},
     "output_type": "execute_result"
    }
   ],
   "source": [
    "imbalanced_subsample.shape"
   ]
  },
  {
   "cell_type": "code",
   "execution_count": 195,
   "metadata": {},
   "outputs": [
    {
     "data": {
      "image/png": "[encoded data removed]",
      "text/plain": [
       "<Figure size 720x360 with 1 Axes>"
      ]
     },
     "metadata": {},
     "output_type": "display_data"
    }
   ],
   "source": [
    "labels = \"Problematic Loans\", \"Good Loans\"\n",
    "sizes = [imbalanced_subsample[\"problematic_loan\"].sum()/len(imbalanced_subsample), 1 - imbalanced_subsample[\"problematic_loan\"].sum()/len(imbalanced_subsample)]\n",
    "\n",
    "\n",
    "plt.figure(figsize=(10,5))\n",
    "plt.pie(sizes, labels=labels, autopct='%1.1f%%',\n",
    "        shadow=True)\n",
    "plt.title(\"Imbalanced ('as-is') subsample\")\n",
    "plt.show()"
   ]
  },
  {
   "cell_type": "code",
   "execution_count": 196,
   "metadata": {},
   "outputs": [],
   "source": [
    "y_imbalanced = imbalanced_subsample[\"problematic_loan\"]\n",
    "X_imbalanced = imbalanced_subsample.drop(\"problematic_loan\", axis=1)"
   ]
  },
  {
   "cell_type": "markdown",
   "metadata": {},
   "source": [
    "**Train-Test-Split**"
   ]
  },
  {
   "cell_type": "markdown",
   "metadata": {},
   "source": [
    "A common procedure is to split the the data into a training set, which is used to train model, and an independent test set, which is subsequently used to evaluate model performance.\n",
    "\n",
    "A usual split is to reserve 30-40% for testing. However, this is still a large dataset so I will reduce the test sample to 20%. I will use stratification to preserve the relative amount of problematic and good loans in both sets. "
   ]
  },
  {
   "cell_type": "code",
   "execution_count": 197,
   "metadata": {},
   "outputs": [],
   "source": [
    "from sklearn.model_selection import train_test_split"
   ]
  },
  {
   "cell_type": "code",
   "execution_count": 198,
   "metadata": {},
   "outputs": [],
   "source": [
    "X_train_bal, X_test_bal, y_train_bal, y_test_bal = train_test_split(X_balanced, y_balanced, test_size=0.20, stratify=y_balanced)"
   ]
  },
  {
   "cell_type": "code",
   "execution_count": 199,
   "metadata": {},
   "outputs": [],
   "source": [
    "X_train_imb, X_test_imb, y_train_imb, y_test_imb = train_test_split(X_imbalanced, y_imbalanced, test_size=0.20, stratify=y_imbalanced)"
   ]
  },
  {
   "cell_type": "markdown",
   "metadata": {},
   "source": [
    "I will  save the preprocessed and subsampled dataset, so it is possible later to continue this project directly from here without the need to repeat all preprocessing steps. "
   ]
  },
  {
   "cell_type": "code",
   "execution_count": 200,
   "metadata": {},
   "outputs": [],
   "source": [
    "X_train_imb.to_pickle(\"LoansData_ImbalancedSubsample_Xtrain.pkl\")\n",
    "y_train_imb.to_pickle(\"LoansData_ImbalancedSubsample_ytrain.pkl\")\n",
    "X_test_imb.to_pickle(\"LoansData_ImbalancedSubsample_Xtest.pkl\")\n",
    "y_test_imb.to_pickle(\"LoansData_ImbalancedSubsample_ytest.pkl\")\n",
    "\n",
    "X_train_imbal.to_pickle(\"LoansData_BalancedSubsample_Xtrain.pkl\")\n",
    "y_train_imbal.to_pickle(\"LoansData_BalancedSubsample_ytrain.pkl\")\n",
    "X_test_imbal.to_pickle(\"LoansData_BalancedSubsample_Xtest.pkl\")\n",
    "y_test_imbal.to_pickle(\"LoansData_BalancedSubsample_ytest.pkl\")"
   ]
  },
  {
   "cell_type": "markdown",
   "metadata": {},
   "source": [
    "Next I will do some \"housekeeping\" and delete dataframes from memory which are not used any more. "
   ]
  },
  {
   "cell_type": "code",
   "execution_count": 201,
   "metadata": {},
   "outputs": [
    {
     "data": {
      "text/plain": [
       "10053"
      ]
     },
     "execution_count": 201,
     "metadata": {},
     "output_type": "execute_result"
    }
   ],
   "source": [
    "#Save the feature names (will be useful later)\n",
    "features = list(df_nomiss)\n",
    "\n",
    "#delete dataframes\n",
    "del df\n",
    "del df_filter\n",
    "del df_dummies\n",
    "del df_nomiss\n",
    "del good_loans\n",
    "del problematic_loans\n",
    "del balanced_subsample_good\n",
    "del balanced_subsample_problematic\n",
    "del X_balanced\n",
    "del y_balanced\n",
    "del imbalanced_subsample_good\n",
    "del imbalanced_subsample_problematic\n",
    "del X_imbalanced\n",
    "del y_imbalanced\n",
    "\n",
    "#One of Python's \"weak\" spots is its handling of RAM, as it does not \n",
    "#free up memory space when variables are deleted. I will load a \"garbage collection\"\n",
    "#module to take care of this\n",
    "\n",
    "import gc\n",
    "\n",
    "gc.collect()"
   ]
  },
  {
   "cell_type": "markdown",
   "metadata": {},
   "source": [
    "**Save Point**"
   ]
  },
  {
   "cell_type": "markdown",
   "metadata": {},
   "source": [
    "Running the next cell will make it possible to continue this project from here: "
   ]
  },
  {
   "cell_type": "code",
   "execution_count": 1,
   "metadata": {},
   "outputs": [],
   "source": [
    "# Import libraries\n",
    "import numpy as np\n",
    "import pandas as pd \n",
    "import matplotlib.pyplot as plt\n",
    "import seaborn as sns\n",
    "import gc\n",
    "%matplotlib inline\n",
    "sns.set_style(\"white\")\n",
    "\n",
    "# Load files\n",
    "X_train_imb = pd.read_pickle(\"LoansData_ImbalancedSubsample_Xtrain.pkl\")\n",
    "y_train_imb = pd.read_pickle(\"LoansData_ImbalancedSubsample_ytrain.pkl\")\n",
    "X_test_imb = pd.read_pickle(\"LoansData_ImbalancedSubsample_Xtest.pkl\")\n",
    "y_test_imb = pd.read_pickle(\"LoansData_ImbalancedSubsample_ytest.pkl\")\n",
    "X_train_bal = pd.read_pickle(\"LoansData_BalancedSubsample_Xtrain.pkl\")\n",
    "y_train_bal = pd.read_pickle(\"LoansData_BalancedSubsample_ytrain.pkl\")\n",
    "X_test_bal = pd.read_pickle(\"LoansData_BalancedSubsample_Xtest.pkl\")\n",
    "y_test_bal = pd.read_pickle(\"LoansData_BalancedSubsample_ytest.pkl\")"
   ]
  },
  {
   "cell_type": "markdown",
   "metadata": {},
   "source": [
    "<a id='3.'></a>"
   ]
  },
  {
   "cell_type": "markdown",
   "metadata": {},
   "source": [
    "# 3. Modeling"
   ]
  },
  {
   "cell_type": "markdown",
   "metadata": {},
   "source": [
    "A few years ago, I would have employed a whole range of machine learning algorithms, such as logistic regression, Support-Vector-Machines, or Random Forest. While I could do this, Kaggle and other Machine Learning competitions have shown repeatedly that one can get better accuracy by employing Gradient Boosting Machines (GBM), and  instead of trying different \"classical\" machine linearning models spending time with model optimization, e.g. by tuning hyperparameters. \n",
    "\n",
    "A GBM is a sequential ensemble learening method, which is built around a loss function, weak learners, and additive model to add weak learners to minimize the loss function. Most suited to this procedure are Decision trees as weak learners. \n",
    "\n",
    "I will demonstrate these techniques with one of the most successfull GBM's, XGBoost, including stratified cross validation, tuning of hyperparameters, and model evaluation. "
   ]
  },
  {
   "cell_type": "markdown",
   "metadata": {},
   "source": [
    "<a id='3.1'></a>"
   ]
  },
  {
   "cell_type": "markdown",
   "metadata": {},
   "source": [
    "## 3.1 Logistic Regression"
   ]
  },
  {
   "cell_type": "markdown",
   "metadata": {},
   "source": [
    "Logistic regression attempts to minimize the squared distances between predictions and actual outcomes using a Sigmoid function. There are two additional preprocessing steps need for logistic regression to work optimally: Stanardization of predictor and impuation of all missing values. \n",
    "\n",
    "I will use cross-valdiation to fit the model. This is a technique where the model is fit several to different parts of the data. The final model parameters are based on the means of all these different models, which reduces the model's variance or dependency on a specific dataset.\n",
    "\n",
    "*Risk of Data Leakage:*\n",
    "Preprocessing steps like standardization and normalization bring the danger of data leakage, especially when combined with cross-validation. This happens when these preprocessing steps are performed before the data is split into the training and validation set. In this case, information from the validation set has \"leaked\" into the training set. This can be circumvented by using \"pipelines\", where these preprocessing steps are performed separately for each training dataset. \n",
    "\n",
    "*Tuning of hyperparamters:*\n",
    "Finally, I will also employ GridSearch. This is a technique where several models with different hyperparameters are trained to find the configuration with the best fit. Hyperparameters are parameters which concern the general model layout but cannot be adjsuted by training. \"Tuning\" of hyperparamters can quickly become computationally expensive, so I will focus on a few of the most important ones for each model. \n",
    "\n",
    "I will perform the whole modeling process for both the imbalanced and balanced subsamples. Logistic regression also has an inherent way of dealing with imbalanced datasets (using weighting), and it will be interesting to see whether one approach performs better than the other. In summary, these are the steps for logistic regression: \n",
    "- Standardization of predictor variables\n",
    "- Imputation of missing values\n",
    "- Model fitting with k-fold cross validation\n",
    "- GridSearch for hyperparameter tuning\n",
    "- Combine all the steps from above in a \"pipeline\" to prevent data leaking.\n",
    "- Model evaluation with F1-scores and confusion matrices"
   ]
  },
  {
   "cell_type": "code",
   "execution_count": 3,
   "metadata": {},
   "outputs": [],
   "source": [
    "from sklearn.pipeline import Pipeline\n",
    "from sklearn.preprocessing import StandardScaler\n",
    "from sklearn.impute import SimpleImputer\n",
    "from sklearn.linear_model import LogisticRegression\n",
    "from sklearn.model_selection import GridSearchCV, StratifiedKFold\n",
    "from sklearn.metrics import plot_confusion_matrix, f1_score"
   ]
  },
  {
   "cell_type": "markdown",
   "metadata": {},
   "source": [
    "**Balanced dataset**"
   ]
  },
  {
   "cell_type": "code",
   "execution_count": 3,
   "metadata": {},
   "outputs": [],
   "source": [
    "#Definition of pipleline and the hyperparamters for tuning\n",
    "pipe_reg_bal = Pipeline([(\"standardizer\", StandardScaler()), (\"mean_impute\", SimpleImputer()), \n",
    "                     (\"reg_model\", LogisticRegression(solver=\"saga\"))])\n",
    "param_grid_reg = {\"reg_model__C\":[1.0, 1.5, 2.0], \"reg_model__penalty\":[\"l1\", \"l2\"]}"
   ]
  },
  {
   "cell_type": "code",
   "execution_count": 4,
   "metadata": {},
   "outputs": [
    {
     "name": "stdout",
     "output_type": "stream",
     "text": [
      "Fitting 5 folds for each of 6 candidates, totalling 30 fits\n"
     ]
    },
    {
     "name": "stderr",
     "output_type": "stream",
     "text": [
      "[Parallel(n_jobs=-1)]: Using backend LokyBackend with 8 concurrent workers.\n",
      "[Parallel(n_jobs=-1)]: Done  30 out of  30 | elapsed:  1.5min finished\n",
      "C:\\ProgramData\\Anaconda3\\lib\\site-packages\\sklearn\\linear_model\\_sag.py:330: ConvergenceWarning: The max_iter was reached which means the coef_ did not converge\n",
      "  \"the coef_ did not converge\", ConvergenceWarning)\n"
     ]
    },
    {
     "data": {
      "text/plain": [
       "GridSearchCV(cv=5, error_score=nan,\n",
       "             estimator=Pipeline(memory=None,\n",
       "                                steps=[('standardizer',\n",
       "                                        StandardScaler(copy=True,\n",
       "                                                       with_mean=True,\n",
       "                                                       with_std=True)),\n",
       "                                       ('mean_impute',\n",
       "                                        SimpleImputer(add_indicator=False,\n",
       "                                                      copy=True,\n",
       "                                                      fill_value=None,\n",
       "                                                      missing_values=nan,\n",
       "                                                      strategy='mean',\n",
       "                                                      verbose=0)),\n",
       "                                       ('reg_model',\n",
       "                                        LogisticRegression(C=1.0,\n",
       "                                                           class_weight=None,\n",
       "                                                           dual=False,\n",
       "                                                           fit_intercept=True,\n",
       "                                                           intercept_scaling=1,\n",
       "                                                           l1_ratio=None,\n",
       "                                                           max_iter=100,\n",
       "                                                           multi_class='auto',\n",
       "                                                           n_jobs=None,\n",
       "                                                           penalty='l2',\n",
       "                                                           random_state=None,\n",
       "                                                           solver='saga',\n",
       "                                                           tol=0.0001,\n",
       "                                                           verbose=0,\n",
       "                                                           warm_start=False))],\n",
       "                                verbose=False),\n",
       "             iid='deprecated', n_jobs=-1,\n",
       "             param_grid={'reg_model__C': [1.0, 1.5, 2.0],\n",
       "                         'reg_model__penalty': ['l1', 'l2']},\n",
       "             pre_dispatch='2*n_jobs', refit=True, return_train_score=False,\n",
       "             scoring=None, verbose=2)"
      ]
     },
     "execution_count": 4,
     "metadata": {},
     "output_type": "execute_result"
    }
   ],
   "source": [
    "grid_reg_bal = GridSearchCV(pipe_reg_bal, param_grid=param_grid_reg, cv=5, verbose = 1, n_jobs=-1)\n",
    "grid_reg_bal.fit(X_train_bal, y_train_bal)"
   ]
  },
  {
   "cell_type": "markdown",
   "metadata": {},
   "source": [
    "**Imbalanced Dataset**"
   ]
  },
  {
   "cell_type": "code",
   "execution_count": null,
   "metadata": {},
   "outputs": [],
   "source": [
    "#Definition of pipleline for imbalanced dataset\n",
    "pipe_reg_imb = Pipeline([(\"standardizer\", StandardScaler()), (\"mean_impute\", SimpleImputer()), \n",
    "                     (\"reg_model\", LogisticRegression(solver=\"saga\", class_weight=\"balanced\"))])"
   ]
  },
  {
   "cell_type": "code",
   "execution_count": 8,
   "metadata": {},
   "outputs": [
    {
     "name": "stdout",
     "output_type": "stream",
     "text": [
      "Fitting 5 folds for each of 6 candidates, totalling 30 fits\n"
     ]
    },
    {
     "name": "stderr",
     "output_type": "stream",
     "text": [
      "[Parallel(n_jobs=-1)]: Using backend LokyBackend with 8 concurrent workers.\n",
      "[Parallel(n_jobs=-1)]: Done  30 out of  30 | elapsed:  1.4min finished\n",
      "C:\\ProgramData\\Anaconda3\\lib\\site-packages\\sklearn\\linear_model\\_sag.py:330: ConvergenceWarning: The max_iter was reached which means the coef_ did not converge\n",
      "  \"the coef_ did not converge\", ConvergenceWarning)\n"
     ]
    },
    {
     "data": {
      "text/plain": [
       "GridSearchCV(cv=5, error_score=nan,\n",
       "             estimator=Pipeline(memory=None,\n",
       "                                steps=[('standardizer',\n",
       "                                        StandardScaler(copy=True,\n",
       "                                                       with_mean=True,\n",
       "                                                       with_std=True)),\n",
       "                                       ('mean_impute',\n",
       "                                        SimpleImputer(add_indicator=False,\n",
       "                                                      copy=True,\n",
       "                                                      fill_value=None,\n",
       "                                                      missing_values=nan,\n",
       "                                                      strategy='mean',\n",
       "                                                      verbose=0)),\n",
       "                                       ('reg_model',\n",
       "                                        LogisticRegression(C=1.0,\n",
       "                                                           class_weight='balanced',\n",
       "                                                           dual=False,\n",
       "                                                           fit_interce...\n",
       "                                                           intercept_scaling=1,\n",
       "                                                           l1_ratio=None,\n",
       "                                                           max_iter=100,\n",
       "                                                           multi_class='auto',\n",
       "                                                           n_jobs=None,\n",
       "                                                           penalty='l2',\n",
       "                                                           random_state=None,\n",
       "                                                           solver='saga',\n",
       "                                                           tol=0.0001,\n",
       "                                                           verbose=0,\n",
       "                                                           warm_start=False))],\n",
       "                                verbose=False),\n",
       "             iid='deprecated', n_jobs=-1,\n",
       "             param_grid={'reg_model__C': [1.0, 1.5, 2.0],\n",
       "                         'reg_model__penalty': ['l1', 'l2']},\n",
       "             pre_dispatch='2*n_jobs', refit=True, return_train_score=False,\n",
       "             scoring=None, verbose=2)"
      ]
     },
     "execution_count": 8,
     "metadata": {},
     "output_type": "execute_result"
    }
   ],
   "source": [
    "grid_reg_imb = GridSearchCV(pipe_reg_imb, param_grid=param_grid_reg, cv=5, verbose = 1, n_jobs=-1)\n",
    "grid_reg_imb.fit(X_train_bal, y_train_bal)"
   ]
  },
  {
   "cell_type": "markdown",
   "metadata": {},
   "source": [
    "**Evaluation of Logistic Regression Models**"
   ]
  },
  {
   "cell_type": "code",
   "execution_count": 143,
   "metadata": {},
   "outputs": [
    {
     "data": {
      "text/plain": [
       "Text(0.5, 1.0, 'Balanced Subsampling\\n\\nOptimal hyperparameters:\\nC=2.0, penalty=l2\\n\\nF1-Score = 0.65')"
      ]
     },
     "execution_count": 143,
     "metadata": {},
     "output_type": "execute_result"
    },
    {
     "data": {
      "image/png": "[encoded data removed]",
      "text/plain": [
       "<Figure size 864x432 with 2 Axes>"
      ]
     },
     "metadata": {},
     "output_type": "display_data"
    }
   ],
   "source": [
    "#Preparation of text output\n",
    "f1_reg_imb = f1_score(y_test_imb, grid_reg_imb.predict(X_test_imb), average=\"weighted\")\n",
    "f1_reg_bal = f1_score(y_test_bal, grid_reg_bal.predict(X_test_bal), average=\"weighted\")\n",
    "title_reg_imb = 'Imbalanced Subsampling\\n\\n' + 'Optimal hyperparameters:\\n' + ', '.join(\"{}={}\".format(key[11:],val) for (key,val) in grid_reg_imb.best_params_.items()) + '\\n\\nF1-Score = ' + str(round(f1_reg_imb, ndigits=2))\n",
    "title_reg_bal = 'Balanced Subsampling\\n\\n' + 'Optimal hyperparameters:\\n' + ', '.join(\"{}={}\".format(key[11:],val) for (key,val) in grid_reg_bal.best_params_.items()) + '\\n\\nF1-Score = ' + str(round(f1_reg_bal, ndigits=2))\n",
    "\n",
    "#Creating the figure\n",
    "fig, ax = plt.subplots(1,2, figsize=(12,6))\n",
    "fig.suptitle('Logistic Regression', fontsize =16)\n",
    "\n",
    "#imbalanced classifiction (left side)\n",
    "pcm_imb = plot_confusion_matrix(grid_reg_imb, X_test_imb, y_test_imb, normalize=\"true\", ax = ax[0], values_format=\".2%\", display_labels=[\"Good loan\", \"Problematic loan\"])\n",
    "pcm_imb.im_.set_clim(0.1,0.9)\n",
    "pcm_imb.im_.colorbar.remove()\n",
    "ax[0].set_title(title_reg_imb)\n",
    "\n",
    "#balanced classification (right side)\n",
    "pcm_bal = plot_confusion_matrix(grid_reg_bal, X_test_bal, y_test_bal, normalize=\"true\", ax = ax[1], values_format=\".2%\", display_labels=[\"Good loan\", \"Problematic loan\"])\n",
    "pcm_bal.im_.set_clim(0.1,0.9)\n",
    "pcm_bal.im_.colorbar.remove()\n",
    "#pcm_bal.im_.axes.yaxis.set_visible(False)\n",
    "ax[1].set_title(title_reg_bal)"
   ]
  },
  {
   "cell_type": "markdown",
   "metadata": {},
   "source": [
    "**Conclusion for Logistic Regression**\n",
    "\n",
    "The F1-scores can be interpreted as a weighted average of the precision and recall, and thereby as an overall performance score, according to which the imbalanced subsampling led to a slightly better classification.  \n",
    "In the confusion matrices, we see the classication  for imbalanced (left) and balanced subsampling (right). while the imbalanced subsampling led to a slightly better sensitivity of 64% (percentage of problematic loans correctly identified), it did so at the cost of an increased rate of false positives (33% vs 26%). \n",
    "Neither of the two logistic regression models performed very good. Regression models make a lot of assumptions about the predictor variables, e.g. normally distributed, independent from one another (no multicollinearity), homoscedastictiy. Carefullying checking these and correcting whenever possible might lead to some improvements. However, while logistic regression is \"the classic classifier\", nowadays there are more modern approaches which often outperform regression. \n",
    "I will move on to Support Vector Classifier and Gradient Boosting Machines, two machine learning algorithms which generally perform well and also are good complementary strategies to logsitic regression (e.g. see [Olson et al., 2017](https://arxiv.org/abs/1708.05070)). \n"
   ]
  }
 ],
 "metadata": {
  "kernelspec": {
   "display_name": "Python 3",
   "language": "python",
   "name": "python3"
  },
  "language_info": {
   "codemirror_mode": {
    "name": "ipython",
    "version": 3
   },
   "file_extension": ".py",
   "mimetype": "text/x-python",
   "name": "python",
   "nbconvert_exporter": "python",
   "pygments_lexer": "ipython3",
   "version": "3.7.6"
  }
 },
 "nbformat": 4,
 "nbformat_minor": 1
}
