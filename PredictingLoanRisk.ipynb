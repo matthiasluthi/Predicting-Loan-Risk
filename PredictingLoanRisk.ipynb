{
 "cells": [
  {
   "cell_type": "markdown",
   "metadata": {},
   "source": [
    "# <center>Portfolio Project: Predicting<br>Risky Loans</center>\n",
    "Welcome to my portfolio project, where I will build a model to predict trustworthiness of loaners. <br>\n",
    "I will demonstrate the complete data processing pipeline, from data prepration, model fitting with different algorithms, model selection and parameter boosting. <br>\n",
    "Thank you for your time and reviewing my portfolio! "
   ]
  },
  {
   "cell_type": "markdown",
   "metadata": {},
   "source": [
    "**Content:** <br>\n",
    "1. [Data Info & Setup](#1.)<br>\n",
    "    1.1 [Creating the Target Variable](#1.1)<br>\n",
    "1. [Exploratory Data Analysis & Data Preparation](#2.)<br>\n",
    "    2.1 [Text Columns & Feature Engineering](#2.1)<br>\n",
    "    2.2 [Normalization](#2.2)<br>\n",
    "    2.3 [Missing Data & KNN Imputation](#2.3)\n",
    "\n"
   ]
  },
  {
   "cell_type": "markdown",
   "metadata": {},
   "source": [
    "<a id='1.'></a>"
   ]
  },
  {
   "cell_type": "markdown",
   "metadata": {},
   "source": [
    "# 1. Data Info & Setup"
   ]
  },
  {
   "cell_type": "markdown",
   "metadata": {},
   "source": [
    "This is a [publicly available data set](http://https://www.lendingclub.com/auth/login?login_url=%2Finfo%2Fdownload-data.action) from LendingClub, an American peer-to-peer lending company.  I will build a model to predict which loans had been paid back completely and without delay. This will provide valueable information for future loan decisions. "
   ]
  },
  {
   "cell_type": "code",
   "execution_count": 1,
   "metadata": {
    "_cell_guid": "b1076dfc-b9ad-4769-8c92-a6c4dae69d19",
    "_uuid": "8f2839f25d086af736a60e9eeb907d3b93b6e0e5"
   },
   "outputs": [],
   "source": [
    "# Import standard libraries\n",
    "import numpy as np\n",
    "import pandas as pd \n",
    "import matplotlib.pyplot as plt\n",
    "import seaborn as sns\n",
    "\n",
    "%matplotlib inline\n",
    "sns.set_style(\"darkgrid\")"
   ]
  },
  {
   "cell_type": "code",
   "execution_count": 2,
   "metadata": {
    "_cell_guid": "79c7e3d0-c299-4dcb-8224-4455121ee9b0",
    "_uuid": "d629ff2d2480ee46fbb7e2d37f6b5fab8052498a"
   },
   "outputs": [],
   "source": [
    "# Load the data\n",
    "df = pd.read_csv(\"accepted_2007_to_2018Q4.csv\", low_memory=False)"
   ]
  },
  {
   "cell_type": "code",
   "execution_count": 3,
   "metadata": {
    "scrolled": true
   },
   "outputs": [
    {
     "name": "stdout",
     "output_type": "stream",
     "text": [
      "<class 'pandas.core.frame.DataFrame'>\n",
      "RangeIndex: 2260701 entries, 0 to 2260700\n",
      "Columns: 151 entries, id to settlement_term\n",
      "dtypes: float64(113), object(38)\n",
      "memory usage: 2.5+ GB\n"
     ]
    }
   ],
   "source": [
    "df.info()"
   ]
  },
  {
   "cell_type": "markdown",
   "metadata": {},
   "source": [
    "The file contains 2,260,701 loans and 151 variables describing each loan and customer. "
   ]
  },
  {
   "cell_type": "markdown",
   "metadata": {},
   "source": [
    "<a id='1.1'></a>"
   ]
  },
  {
   "cell_type": "markdown",
   "metadata": {},
   "source": [
    "## 1.1 Creating the Target Variable\n",
    "There is one variable informing about loan status.\n",
    "Let's have a closer look: "
   ]
  },
  {
   "cell_type": "code",
   "execution_count": 4,
   "metadata": {},
   "outputs": [
    {
     "data": {
      "text/plain": [
       "Fully Paid                                             1076751\n",
       "Current                                                 878317\n",
       "Charged Off                                             268559\n",
       "Late (31-120 days)                                       21467\n",
       "In Grace Period                                           8436\n",
       "Late (16-30 days)                                         4349\n",
       "Does not meet the credit policy. Status:Fully Paid        1988\n",
       "Does not meet the credit policy. Status:Charged Off        761\n",
       "Default                                                     40\n",
       "Name: loan_status, dtype: int64"
      ]
     },
     "execution_count": 4,
     "metadata": {},
     "output_type": "execute_result"
    }
   ],
   "source": [
    "df[\"loan_status\"].value_counts()"
   ]
  },
  {
   "cell_type": "markdown",
   "metadata": {},
   "source": [
    "I will use loan_status to create a binary variable, which marks problematic \n",
    "loans. This will become my **target variable** for modeling. "
   ]
  },
  {
   "cell_type": "code",
   "execution_count": 5,
   "metadata": {},
   "outputs": [],
   "source": [
    "problematic_loans = [\"Charged Off\", \"Default\", \"In Grace Period\", \n",
    "                     \"Does not meet the credit policy. Status:Charged Off\", \n",
    "                     \"Late (16-30 days)\", \"Late (31-120 days)\"]\n",
    "\n",
    "df[\"problematic_loan\"] = df[\"loan_status\"].apply(lambda s: int(s in problematic_loans))"
   ]
  },
  {
   "cell_type": "code",
   "execution_count": 6,
   "metadata": {},
   "outputs": [],
   "source": [
    "# I drop all current loans from analysis. We don't know whether they will \n",
    "# become problamtic loans or not and I will therefore exclude them\n",
    "df = df[df[\"loan_status\"] != \"Current\"]"
   ]
  },
  {
   "cell_type": "code",
   "execution_count": 1,
   "metadata": {},
   "outputs": [
    {
     "ename": "NameError",
     "evalue": "name 'df' is not defined",
     "output_type": "error",
     "traceback": [
      "\u001b[1;31m---------------------------------------------------------------------------\u001b[0m",
      "\u001b[1;31mNameError\u001b[0m                                 Traceback (most recent call last)",
      "\u001b[1;32m<ipython-input-1-48381c01fe84>\u001b[0m in \u001b[0;36m<module>\u001b[1;34m\u001b[0m\n\u001b[0;32m      1\u001b[0m \u001b[0mlabels\u001b[0m \u001b[1;33m=\u001b[0m \u001b[1;34m\"Problematic Loans\"\u001b[0m\u001b[1;33m,\u001b[0m \u001b[1;34m\"Good Loans\"\u001b[0m\u001b[1;33m\u001b[0m\u001b[1;33m\u001b[0m\u001b[0m\n\u001b[1;32m----> 2\u001b[1;33m \u001b[0msizes\u001b[0m \u001b[1;33m=\u001b[0m \u001b[1;33m[\u001b[0m\u001b[0mdf\u001b[0m\u001b[1;33m[\u001b[0m\u001b[1;34m\"problematic_loan\"\u001b[0m\u001b[1;33m]\u001b[0m\u001b[1;33m.\u001b[0m\u001b[0msum\u001b[0m\u001b[1;33m(\u001b[0m\u001b[1;33m)\u001b[0m\u001b[1;33m/\u001b[0m\u001b[0mlen\u001b[0m\u001b[1;33m(\u001b[0m\u001b[0mdf\u001b[0m\u001b[1;33m)\u001b[0m\u001b[1;33m,\u001b[0m \u001b[1;36m1\u001b[0m \u001b[1;33m-\u001b[0m \u001b[0mdf\u001b[0m\u001b[1;33m[\u001b[0m\u001b[1;34m\"problematic_loan\"\u001b[0m\u001b[1;33m]\u001b[0m\u001b[1;33m.\u001b[0m\u001b[0msum\u001b[0m\u001b[1;33m(\u001b[0m\u001b[1;33m)\u001b[0m\u001b[1;33m/\u001b[0m\u001b[0mlen\u001b[0m\u001b[1;33m(\u001b[0m\u001b[0mdf\u001b[0m\u001b[1;33m)\u001b[0m\u001b[1;33m]\u001b[0m\u001b[1;33m\u001b[0m\u001b[1;33m\u001b[0m\u001b[0m\n\u001b[0m\u001b[0;32m      3\u001b[0m \u001b[1;33m\u001b[0m\u001b[0m\n\u001b[0;32m      4\u001b[0m \u001b[1;33m\u001b[0m\u001b[0m\n\u001b[0;32m      5\u001b[0m \u001b[0mplt\u001b[0m\u001b[1;33m.\u001b[0m\u001b[0mfigure\u001b[0m\u001b[1;33m(\u001b[0m\u001b[0mfigsize\u001b[0m\u001b[1;33m=\u001b[0m\u001b[1;33m(\u001b[0m\u001b[1;36m10\u001b[0m\u001b[1;33m,\u001b[0m\u001b[1;36m5\u001b[0m\u001b[1;33m)\u001b[0m\u001b[1;33m)\u001b[0m\u001b[1;33m\u001b[0m\u001b[1;33m\u001b[0m\u001b[0m\n",
      "\u001b[1;31mNameError\u001b[0m: name 'df' is not defined"
     ]
    }
   ],
   "source": [
    "labels = \"Problematic Loans\", \"Good Loans\"\n",
    "sizes = [df[\"problematic_loan\"].sum()/len(df), 1 - df[\"problematic_loan\"].sum()/len(df)]\n",
    "\n",
    "\n",
    "plt.figure(figsize=(10,5))\n",
    "plt.pie(sizes, labels=labels, autopct='%1.1f%%',\n",
    "        shadow=True)\n",
    "\n",
    "plt.show()"
   ]
  },
  {
   "cell_type": "markdown",
   "metadata": {},
   "source": [
    "<a id='2.'></a>"
   ]
  },
  {
   "cell_type": "markdown",
   "metadata": {},
   "source": [
    "# 2. Exploratory Data Analysis & Data Preparation"
   ]
  },
  {
   "cell_type": "markdown",
   "metadata": {},
   "source": [
    "<a id='2.1'></a>"
   ]
  },
  {
   "cell_type": "markdown",
   "metadata": {},
   "source": [
    "# 2.1 Text Columns & Feature Engineering"
   ]
  },
  {
   "cell_type": "code",
   "execution_count": 9,
   "metadata": {},
   "outputs": [
    {
     "name": "stdout",
     "output_type": "stream",
     "text": [
      "id has 1382384 unique values.\n",
      "term has 2 unique values.\n",
      " 36 months    1043059\n",
      " 60 months     339292\n",
      "Name: term, dtype: int64\n",
      "grade has 7 unique values.\n",
      "B    400654\n",
      "C    394346\n",
      "A    237488\n",
      "D    209286\n",
      "E     97559\n",
      "F     33315\n",
      "G      9703\n",
      "Name: grade, dtype: int64\n",
      "sub_grade has 35 unique values.\n",
      "emp_title has 385454 unique values.\n",
      "emp_length has 11 unique values.\n",
      "home_ownership has 6 unique values.\n",
      "MORTGAGE    682142\n",
      "RENT        550448\n",
      "OWN         149215\n",
      "ANY            311\n",
      "OTHER          182\n",
      "NONE            53\n",
      "Name: home_ownership, dtype: int64\n",
      "verification_status has 3 unique values.\n",
      "Source Verified    536031\n",
      "Verified           429617\n",
      "Not Verified       416703\n",
      "Name: verification_status, dtype: int64\n",
      "issue_d has 139 unique values.\n",
      "loan_status has 8 unique values.\n",
      "Fully Paid                                             1076751\n",
      "Charged Off                                             268559\n",
      "Late (31-120 days)                                       21467\n",
      "In Grace Period                                           8436\n",
      "Late (16-30 days)                                         4349\n",
      "Does not meet the credit policy. Status:Fully Paid        1988\n",
      "Does not meet the credit policy. Status:Charged Off        761\n",
      "Default                                                     40\n",
      "Name: loan_status, dtype: int64\n",
      "pymnt_plan has 2 unique values.\n",
      "n    1381734\n",
      "y        617\n",
      "Name: pymnt_plan, dtype: int64\n",
      "url has 1382351 unique values.\n",
      "desc has 124416 unique values.\n",
      "purpose has 14 unique values.\n",
      "title has 63154 unique values.\n",
      "zip_code has 946 unique values.\n",
      "addr_state has 51 unique values.\n",
      "earliest_cr_line has 739 unique values.\n",
      "initial_list_status has 2 unique values.\n",
      "w    810885\n",
      "f    571466\n",
      "Name: initial_list_status, dtype: int64\n",
      "last_pymnt_d has 136 unique values.\n",
      "next_pymnt_d has 102 unique values.\n",
      "last_credit_pull_d has 141 unique values.\n",
      "application_type has 2 unique values.\n",
      "Individual    1352767\n",
      "Joint App       29584\n",
      "Name: application_type, dtype: int64\n",
      "verification_status_joint has 3 unique values.\n",
      "Not Verified       16471\n",
      "Source Verified     7504\n",
      "Verified            5353\n",
      "Name: verification_status_joint, dtype: int64\n",
      "sec_app_earliest_cr_line has 585 unique values.\n",
      "hardship_flag has 2 unique values.\n",
      "N    1381523\n",
      "Y        828\n",
      "Name: hardship_flag, dtype: int64\n",
      "hardship_type has 1 unique values.\n",
      "INTEREST ONLY-3 MONTHS DEFERRAL    8004\n",
      "Name: hardship_type, dtype: int64\n",
      "hardship_reason has 9 unique values.\n",
      "NATURAL_DISASTER         1807\n",
      "EXCESSIVE_OBLIGATIONS    1624\n",
      "UNEMPLOYMENT             1543\n",
      "INCOME_CURTAILMENT       1055\n",
      "MEDICAL                   979\n",
      "REDUCED_HOURS             529\n",
      "DIVORCE                   186\n",
      "FAMILY_DEATH              154\n",
      "DISABILITY                127\n",
      "Name: hardship_reason, dtype: int64\n",
      "hardship_status has 3 unique values.\n",
      "COMPLETED    4991\n",
      "BROKEN       2185\n",
      "ACTIVE        828\n",
      "Name: hardship_status, dtype: int64\n",
      "hardship_start_date has 27 unique values.\n",
      "hardship_end_date has 28 unique values.\n",
      "payment_plan_start_date has 27 unique values.\n",
      "hardship_loan_status has 5 unique values.\n",
      "Late (16-30 days)     3747\n",
      "In Grace Period       2187\n",
      "Current               1713\n",
      "Late (31-120 days)     350\n",
      "Issued                   7\n",
      "Name: hardship_loan_status, dtype: int64\n",
      "disbursement_method has 2 unique values.\n",
      "Cash         1374460\n",
      "DirectPay       7891\n",
      "Name: disbursement_method, dtype: int64\n",
      "debt_settlement_flag has 2 unique values.\n",
      "N    1348133\n",
      "Y      34218\n",
      "Name: debt_settlement_flag, dtype: int64\n",
      "debt_settlement_flag_date has 83 unique values.\n",
      "settlement_status has 3 unique values.\n",
      "ACTIVE      14677\n",
      "COMPLETE    14505\n",
      "BROKEN       5036\n",
      "Name: settlement_status, dtype: int64\n",
      "settlement_date has 90 unique values.\n"
     ]
    }
   ],
   "source": [
    "#List all text columns\n",
    "for c in df.columns:\n",
    "    if df[c].dtype  == \"object\":\n",
    "        print(c, \"has\", df[c].nunique(), \"unique values.\")\n",
    "        if df[c].nunique() < 11: \n",
    "                print(df[c].value_counts())"
   ]
  },
  {
   "cell_type": "markdown",
   "metadata": {},
   "source": [
    "### Creating dummy variables \n",
    "As we can see abosve, some text columns are binary. I inspected them further and decided to transform most of them to dummy varibles:"
   ]
  },
  {
   "cell_type": "code",
   "execution_count": 10,
   "metadata": {},
   "outputs": [],
   "source": [
    "#Creating dummy variables from potentially interesting binary categorical variables: \n",
    "df = pd.get_dummies(df, columns=[\"term\", \"pymnt_plan\", \"application_type\", \"hardship_flag\", \n",
    "                                 \"debt_settlement_flag\", 'disbursement_method'], drop_first=True)"
   ]
  },
  {
   "cell_type": "markdown",
   "metadata": {},
   "source": [
    "### Feature Engineering\n",
    "\n",
    "Through more exploration, I identified a few text columns with binary values. 3 text variables which have \n",
    "interesting information: <br>\n",
    "- \"purpose\" indicates whether a customer already had prior debt\n",
    "- \"home_ownership\" indicates whether someone owns a house with or without mortgage \n",
    "- \"grade\" refers to credit score grade <br>\n",
    "<br>\n",
    "I transform the first two variables into binary dummy variables and grade into a continuos variable. \n",
    "\n",
    "**Prior debt from purpose**"
   ]
  },
  {
   "cell_type": "code",
   "execution_count": 11,
   "metadata": {},
   "outputs": [
    {
     "data": {
      "text/plain": [
       "Text(0.5, 1.0, 'Prior Debt')"
      ]
     },
     "execution_count": 11,
     "metadata": {},
     "output_type": "execute_result"
    },
    {
     "data": {
      "image/png": "[encoded data removed]",
      "text/plain": [
       "<Figure size 576x288 with 1 Axes>"
      ]
     },
     "metadata": {},
     "output_type": "display_data"
    }
   ],
   "source": [
    "def check_prior_debt(s):\n",
    "    if s in [\"debt_consolidation\", \"credit_card\"]:\n",
    "        return 1\n",
    "    else:\n",
    "        return 0\n",
    "    \n",
    "df[\"prior_debt\"] = df[\"purpose\"].apply(check_prior_debt)\n",
    "\n",
    "#Most loaners had prior debt: \n",
    "plt.figure(figsize=(8,4))\n",
    "sns.countplot(df[\"prior_debt\"])\n",
    "plt.title(\"Prior Debt\")"
   ]
  },
  {
   "cell_type": "markdown",
   "metadata": {},
   "source": [
    "**Home ownership and mortgage**"
   ]
  },
  {
   "cell_type": "code",
   "execution_count": 12,
   "metadata": {},
   "outputs": [
    {
     "data": {
      "text/plain": [
       "Text(0.5, 1.0, 'Home ownership')"
      ]
     },
     "execution_count": 12,
     "metadata": {},
     "output_type": "execute_result"
    },
    {
     "data": {
      "image/png": "[encoded data removed]",
      "text/plain": [
       "<Figure size 576x288 with 1 Axes>"
      ]
     },
     "metadata": {},
     "output_type": "display_data"
    }
   ],
   "source": [
    "df[\"home_owner\"] = df[\"home_ownership\"].apply(lambda s: int(s == \"OWN\"))\n",
    "df[\"mortgage\"] = df[\"home_ownership\"].apply(lambda s: int(s == \"MORTGAGE\"))\n",
    "\n",
    "#Few loaners own a house without mortgage: \n",
    "plt.figure(figsize=(8,4))\n",
    "sns.countplot(df[\"home_ownership\"])\n",
    "plt.title(\"Home ownership\")"
   ]
  },
  {
   "cell_type": "markdown",
   "metadata": {},
   "source": [
    "**Credit Card Score**"
   ]
  },
  {
   "cell_type": "code",
   "execution_count": 13,
   "metadata": {},
   "outputs": [
    {
     "data": {
      "text/plain": [
       "B    400654\n",
       "C    394346\n",
       "A    237488\n",
       "D    209286\n",
       "E     97559\n",
       "F     33315\n",
       "G      9703\n",
       "Name: grade, dtype: int64"
      ]
     },
     "execution_count": 13,
     "metadata": {},
     "output_type": "execute_result"
    }
   ],
   "source": [
    "df[\"grade\"].value_counts()"
   ]
  },
  {
   "cell_type": "code",
   "execution_count": 14,
   "metadata": {},
   "outputs": [
    {
     "data": {
      "text/plain": [
       "<matplotlib.axes._subplots.AxesSubplot at 0x1e89c43ba08>"
      ]
     },
     "execution_count": 14,
     "metadata": {},
     "output_type": "execute_result"
    },
    {
     "data": {
      "image/png": "[encoded data removed]",
      "text/plain": [
       "<Figure size 432x288 with 1 Axes>"
      ]
     },
     "metadata": {},
     "output_type": "display_data"
    }
   ],
   "source": [
    "cs_convert = {\"A\": 1, \"B\": 2, \"C\": 3, \"D\": 4, \"E\": 5, \"F\": 6, \"G\": 7, \"NaN\": np.nan}\n",
    "df[\"credit_score\"] = df[\"grade\"].apply(lambda s: cs_convert[s] if pd.notnull(s) else s)\n",
    "\n",
    "sns.countplot(df[df[\"credit_score\"].notnull()][\"credit_score\"])"
   ]
  },
  {
   "cell_type": "markdown",
   "metadata": {},
   "source": [
    "### Delete text columns\n",
    "After having engineered new features from some text columns and turned others into dummy variables, \n",
    "I will delete all text columns:"
   ]
  },
  {
   "cell_type": "code",
   "execution_count": 15,
   "metadata": {},
   "outputs": [],
   "source": [
    "#Delete text columns irrelevant for modeling\n",
    "df.drop(['id', 'member_id', 'emp_title', 'url', 'desc', 'zip_code', 'title', 'sub_grade', 'emp_title', \n",
    "         'emp_length', 'issue_d', 'purpose', 'addr_state', 'earliest_cr_line', 'last_pymnt_d',\n",
    "         'next_pymnt_d', 'last_credit_pull_d', 'sec_app_earliest_cr_line', 'hardship_start_date',\n",
    "         'hardship_end_date', 'payment_plan_start_date', 'debt_settlement_flag_date', \n",
    "         'settlement_date', 'home_ownership', 'home_ownership', 'initial_list_status', \n",
    "         'hardship_type', 'hardship_reason', 'hardship_status', 'grade', 'verification_status', \n",
    "         'settlement_status','hardship_loan_status', 'verification_status_joint', 'loan_status'], \n",
    "        axis=1, inplace=True)"
   ]
  },
  {
   "cell_type": "markdown",
   "metadata": {},
   "source": [
    "<a id='2.2'></a>"
   ]
  },
  {
   "cell_type": "markdown",
   "metadata": {},
   "source": [
    "## 2.2 Normalization"
   ]
  },
  {
   "cell_type": "markdown",
   "metadata": {},
   "source": [
    "Normalization is a process to put all features in a standard space (usually between 0 and 1). Most machine learning algorithms profit from normalization. It ensures that all features have equal weight or importance in the modeling process. Because I will employ a first machine learning algorithm when imputing missing data in the next section, it is now time to normalize the data."
   ]
  },
  {
   "cell_type": "code",
   "execution_count": 28,
   "metadata": {},
   "outputs": [],
   "source": [
    "df_norm = (df-df.min()) / (df.max()-df.min())"
   ]
  },
  {
   "cell_type": "markdown",
   "metadata": {},
   "source": [
    "<a id='2.3'></a>"
   ]
  },
  {
   "cell_type": "markdown",
   "metadata": {},
   "source": [
    "## 2.3 Missing Data & Imputation"
   ]
  },
  {
   "cell_type": "markdown",
   "metadata": {},
   "source": [
    "### Missings per column "
   ]
  },
  {
   "cell_type": "code",
   "execution_count": 30,
   "metadata": {},
   "outputs": [
    {
     "data": {
      "text/plain": [
       "Text(0.5, 0, 'Columns')"
      ]
     },
     "execution_count": 30,
     "metadata": {},
     "output_type": "execute_result"
    },
    {
     "data": {
      "image/png": "[encoded data removed]",
      "text/plain": [
       "<Figure size 432x288 with 1 Axes>"
      ]
     },
     "metadata": {},
     "output_type": "display_data"
    }
   ],
   "source": [
    "missings_column = df_norm.isnull().sum(axis=0).unique().tolist()\n",
    "#Get the percentage of missing values per column\n",
    "plt.plot([s/len(df_norm) for s in sorted(missings_column, reverse=True)], marker=\"o\")\n",
    "plt.ylabel(\"Percent missing\")\n",
    "plt.xlabel(\"Columns\")"
   ]
  },
  {
   "cell_type": "markdown",
   "metadata": {},
   "source": [
    "There are columns with many missing but then there is a sudden drop from >50% to 13% missing rows. I will exclude all columns with more than 50% missing:"
   ]
  },
  {
   "cell_type": "code",
   "execution_count": 31,
   "metadata": {},
   "outputs": [],
   "source": [
    "loans = df_norm.dropna(axis=1, thresh=len(df_norm)/2)"
   ]
  },
  {
   "cell_type": "markdown",
   "metadata": {},
   "source": [
    "### Missings per row"
   ]
  },
  {
   "cell_type": "code",
   "execution_count": 32,
   "metadata": {},
   "outputs": [
    {
     "data": {
      "text/plain": [
       "Text(0.5, 0, 'Rows')"
      ]
     },
     "execution_count": 32,
     "metadata": {},
     "output_type": "execute_result"
    },
    {
     "data": {
      "image/png": "[encoded data removed]",
      "text/plain": [
       "<Figure size 432x288 with 1 Axes>"
      ]
     },
     "metadata": {},
     "output_type": "display_data"
    }
   ],
   "source": [
    "missings_row = loans.isnull().sum(axis=1).unique().tolist()\n",
    "#Get the percentage of missing values per column\n",
    "plt.plot([s/loans.shape[1] for s in sorted(missings_row, reverse=True)], marker=\"o\")\n",
    "plt.ylabel(\"Percent missing\")\n",
    "plt.xlabel(\"Rows\")"
   ]
  },
  {
   "cell_type": "markdown",
   "metadata": {},
   "source": [
    "There is a jump from 9.6% to 27.7% missing in a row. As a rule of thumb, \n",
    "20-25% is an accepted standard to drop rows and I will follow this here. \n",
    "For a real-world data-set, it is normally wortwhile to have a closer look\n",
    "at the missing values and see if there is possibility to complete the \n",
    "data set."
   ]
  },
  {
   "cell_type": "code",
   "execution_count": 59,
   "metadata": {},
   "outputs": [],
   "source": [
    "loans = loans.dropna(axis=0, thresh=0.75*loans.shape[1])"
   ]
  },
  {
   "cell_type": "code",
   "execution_count": 60,
   "metadata": {},
   "outputs": [],
   "source": [
    "loans.to_csv(\"LoansData_beforeImputation.csv\")"
   ]
  },
  {
   "cell_type": "code",
   "execution_count": 1,
   "metadata": {},
   "outputs": [],
   "source": [
    "# Import standard libraries\n",
    "import numpy as np\n",
    "import pandas as pd \n",
    "import matplotlib.pyplot as plt\n",
    "import seaborn as sns\n",
    "\n",
    "%matplotlib inline\n",
    "sns.set_style(\"darkgrid\")"
   ]
  },
  {
   "cell_type": "code",
   "execution_count": 9,
   "metadata": {},
   "outputs": [],
   "source": [
    "loans = pd.read_csv(\"LoansData_beforeImputation.csv\", dtype=np.float16)\n",
    "loans.drop(columns=\"Unnamed: 0\", inplace=True)"
   ]
  },
  {
   "cell_type": "code",
   "execution_count": 10,
   "metadata": {},
   "outputs": [
    {
     "data": {
      "text/html": [
       "<div>\n",
       "<style scoped>\n",
       "    .dataframe tbody tr th:only-of-type {\n",
       "        vertical-align: middle;\n",
       "    }\n",
       "\n",
       "    .dataframe tbody tr th {\n",
       "        vertical-align: top;\n",
       "    }\n",
       "\n",
       "    .dataframe thead th {\n",
       "        text-align: right;\n",
       "    }\n",
       "</style>\n",
       "<table border=\"1\" class=\"dataframe\">\n",
       "  <thead>\n",
       "    <tr style=\"text-align: right;\">\n",
       "      <th></th>\n",
       "      <th>loan_amnt</th>\n",
       "      <th>funded_amnt</th>\n",
       "      <th>funded_amnt_inv</th>\n",
       "      <th>int_rate</th>\n",
       "      <th>installment</th>\n",
       "      <th>annual_inc</th>\n",
       "      <th>dti</th>\n",
       "      <th>delinq_2yrs</th>\n",
       "      <th>fico_range_low</th>\n",
       "      <th>fico_range_high</th>\n",
       "      <th>...</th>\n",
       "      <th>term_ 60 months</th>\n",
       "      <th>pymnt_plan_y</th>\n",
       "      <th>application_type_Joint App</th>\n",
       "      <th>hardship_flag_Y</th>\n",
       "      <th>debt_settlement_flag_Y</th>\n",
       "      <th>disbursement_method_DirectPay</th>\n",
       "      <th>prior_debt</th>\n",
       "      <th>home_owner</th>\n",
       "      <th>mortgage</th>\n",
       "      <th>credit_score</th>\n",
       "    </tr>\n",
       "  </thead>\n",
       "  <tbody>\n",
       "    <tr>\n",
       "      <th>0</th>\n",
       "      <td>0.078491</td>\n",
       "      <td>0.078491</td>\n",
       "      <td>0.090027</td>\n",
       "      <td>0.337891</td>\n",
       "      <td>0.068848</td>\n",
       "      <td>0.005001</td>\n",
       "      <td>0.006908</td>\n",
       "      <td>0.000000</td>\n",
       "      <td>0.276611</td>\n",
       "      <td>0.275391</td>\n",
       "      <td>...</td>\n",
       "      <td>0.0</td>\n",
       "      <td>0.0</td>\n",
       "      <td>0.0</td>\n",
       "      <td>0.0</td>\n",
       "      <td>0.0</td>\n",
       "      <td>0.0</td>\n",
       "      <td>1.0</td>\n",
       "      <td>0.0</td>\n",
       "      <td>1.0</td>\n",
       "      <td>0.333252</td>\n",
       "    </tr>\n",
       "    <tr>\n",
       "      <th>1</th>\n",
       "      <td>0.612793</td>\n",
       "      <td>0.612793</td>\n",
       "      <td>0.617676</td>\n",
       "      <td>0.260010</td>\n",
       "      <td>0.475342</td>\n",
       "      <td>0.005909</td>\n",
       "      <td>0.017059</td>\n",
       "      <td>0.025635</td>\n",
       "      <td>0.446777</td>\n",
       "      <td>0.444824</td>\n",
       "      <td>...</td>\n",
       "      <td>0.0</td>\n",
       "      <td>0.0</td>\n",
       "      <td>0.0</td>\n",
       "      <td>0.0</td>\n",
       "      <td>0.0</td>\n",
       "      <td>0.0</td>\n",
       "      <td>0.0</td>\n",
       "      <td>0.0</td>\n",
       "      <td>1.0</td>\n",
       "      <td>0.333252</td>\n",
       "    </tr>\n",
       "    <tr>\n",
       "      <th>2</th>\n",
       "      <td>0.493652</td>\n",
       "      <td>0.493652</td>\n",
       "      <td>0.500000</td>\n",
       "      <td>0.213013</td>\n",
       "      <td>0.249390</td>\n",
       "      <td>0.005726</td>\n",
       "      <td>0.011780</td>\n",
       "      <td>0.000000</td>\n",
       "      <td>0.361816</td>\n",
       "      <td>0.360107</td>\n",
       "      <td>...</td>\n",
       "      <td>1.0</td>\n",
       "      <td>0.0</td>\n",
       "      <td>1.0</td>\n",
       "      <td>0.0</td>\n",
       "      <td>0.0</td>\n",
       "      <td>0.0</td>\n",
       "      <td>0.0</td>\n",
       "      <td>0.0</td>\n",
       "      <td>1.0</td>\n",
       "      <td>0.166626</td>\n",
       "    </tr>\n",
       "    <tr>\n",
       "      <th>3</th>\n",
       "      <td>0.250732</td>\n",
       "      <td>0.250732</td>\n",
       "      <td>0.260010</td>\n",
       "      <td>0.667480</td>\n",
       "      <td>0.166138</td>\n",
       "      <td>0.009491</td>\n",
       "      <td>0.026367</td>\n",
       "      <td>0.025635</td>\n",
       "      <td>0.361816</td>\n",
       "      <td>0.360107</td>\n",
       "      <td>...</td>\n",
       "      <td>1.0</td>\n",
       "      <td>0.0</td>\n",
       "      <td>0.0</td>\n",
       "      <td>0.0</td>\n",
       "      <td>0.0</td>\n",
       "      <td>0.0</td>\n",
       "      <td>0.0</td>\n",
       "      <td>0.0</td>\n",
       "      <td>1.0</td>\n",
       "      <td>0.833496</td>\n",
       "    </tr>\n",
       "    <tr>\n",
       "      <th>4</th>\n",
       "      <td>0.289795</td>\n",
       "      <td>0.289795</td>\n",
       "      <td>0.298828</td>\n",
       "      <td>0.316650</td>\n",
       "      <td>0.233398</td>\n",
       "      <td>0.003092</td>\n",
       "      <td>0.011200</td>\n",
       "      <td>0.000000</td>\n",
       "      <td>0.340332</td>\n",
       "      <td>0.338867</td>\n",
       "      <td>...</td>\n",
       "      <td>0.0</td>\n",
       "      <td>0.0</td>\n",
       "      <td>0.0</td>\n",
       "      <td>0.0</td>\n",
       "      <td>0.0</td>\n",
       "      <td>0.0</td>\n",
       "      <td>1.0</td>\n",
       "      <td>0.0</td>\n",
       "      <td>0.0</td>\n",
       "      <td>0.333252</td>\n",
       "    </tr>\n",
       "  </tbody>\n",
       "</table>\n",
       "<p>5 rows × 79 columns</p>\n",
       "</div>"
      ],
      "text/plain": [
       "   loan_amnt  funded_amnt  funded_amnt_inv  int_rate  installment  annual_inc  \\\n",
       "0   0.078491     0.078491         0.090027  0.337891     0.068848    0.005001   \n",
       "1   0.612793     0.612793         0.617676  0.260010     0.475342    0.005909   \n",
       "2   0.493652     0.493652         0.500000  0.213013     0.249390    0.005726   \n",
       "3   0.250732     0.250732         0.260010  0.667480     0.166138    0.009491   \n",
       "4   0.289795     0.289795         0.298828  0.316650     0.233398    0.003092   \n",
       "\n",
       "        dti  delinq_2yrs  fico_range_low  fico_range_high  ...  \\\n",
       "0  0.006908     0.000000        0.276611         0.275391  ...   \n",
       "1  0.017059     0.025635        0.446777         0.444824  ...   \n",
       "2  0.011780     0.000000        0.361816         0.360107  ...   \n",
       "3  0.026367     0.025635        0.361816         0.360107  ...   \n",
       "4  0.011200     0.000000        0.340332         0.338867  ...   \n",
       "\n",
       "   term_ 60 months  pymnt_plan_y  application_type_Joint App  hardship_flag_Y  \\\n",
       "0              0.0           0.0                         0.0              0.0   \n",
       "1              0.0           0.0                         0.0              0.0   \n",
       "2              1.0           0.0                         1.0              0.0   \n",
       "3              1.0           0.0                         0.0              0.0   \n",
       "4              0.0           0.0                         0.0              0.0   \n",
       "\n",
       "   debt_settlement_flag_Y  disbursement_method_DirectPay  prior_debt  \\\n",
       "0                     0.0                            0.0         1.0   \n",
       "1                     0.0                            0.0         0.0   \n",
       "2                     0.0                            0.0         0.0   \n",
       "3                     0.0                            0.0         0.0   \n",
       "4                     0.0                            0.0         1.0   \n",
       "\n",
       "   home_owner  mortgage  credit_score  \n",
       "0         0.0       1.0      0.333252  \n",
       "1         0.0       1.0      0.333252  \n",
       "2         0.0       1.0      0.166626  \n",
       "3         0.0       1.0      0.833496  \n",
       "4         0.0       0.0      0.333252  \n",
       "\n",
       "[5 rows x 79 columns]"
      ]
     },
     "execution_count": 10,
     "metadata": {},
     "output_type": "execute_result"
    }
   ],
   "source": [
    "loans.head()"
   ]
  },
  {
   "cell_type": "code",
   "execution_count": 15,
   "metadata": {},
   "outputs": [
    {
     "name": "stdout",
     "output_type": "stream",
     "text": [
      "<class 'pandas.core.frame.DataFrame'>\n",
      "RangeIndex: 1312075 entries, 0 to 1312074\n",
      "Data columns (total 79 columns):\n",
      "loan_amnt                        1312075 non-null float16\n",
      "funded_amnt                      1312075 non-null float16\n",
      "funded_amnt_inv                  1312075 non-null float16\n",
      "int_rate                         1312075 non-null float16\n",
      "installment                      1312075 non-null float16\n",
      "annual_inc                       1312075 non-null float16\n",
      "dti                              1311663 non-null float16\n",
      "delinq_2yrs                      1312075 non-null float16\n",
      "fico_range_low                   1312075 non-null float16\n",
      "fico_range_high                  1312075 non-null float16\n",
      "inq_last_6mths                   1312074 non-null float16\n",
      "open_acc                         1312075 non-null float16\n",
      "pub_rec                          1312075 non-null float16\n",
      "revol_bal                        1312075 non-null float16\n",
      "revol_util                       1311261 non-null float16\n",
      "total_acc                        1312075 non-null float16\n",
      "out_prncp                        1312075 non-null float16\n",
      "out_prncp_inv                    1312075 non-null float16\n",
      "total_pymnt                      1312075 non-null float16\n",
      "total_pymnt_inv                  1312075 non-null float16\n",
      "total_rec_prncp                  1312075 non-null float16\n",
      "total_rec_int                    1312075 non-null float16\n",
      "total_rec_late_fee               1312075 non-null float16\n",
      "recoveries                       1312075 non-null float16\n",
      "collection_recovery_fee          1312075 non-null float16\n",
      "last_pymnt_amnt                  1312075 non-null float16\n",
      "last_fico_range_high             1312075 non-null float16\n",
      "last_fico_range_low              1312075 non-null float16\n",
      "collections_12_mths_ex_med       1312075 non-null float16\n",
      "acc_now_delinq                   1312075 non-null float16\n",
      "tot_coll_amt                     1312075 non-null float16\n",
      "tot_cur_bal                      1312075 non-null float16\n",
      "total_rev_hi_lim                 1312075 non-null float16\n",
      "acc_open_past_24mths             1312075 non-null float16\n",
      "avg_cur_bal                      1312052 non-null float16\n",
      "bc_open_to_buy                   1298005 non-null float16\n",
      "bc_util                          1297228 non-null float16\n",
      "chargeoff_within_12_mths         1312075 non-null float16\n",
      "delinq_amnt                      1312075 non-null float16\n",
      "mo_sin_old_il_acct               1272839 non-null float16\n",
      "mo_sin_old_rev_tl_op             1312074 non-null float16\n",
      "mo_sin_rcnt_rev_tl_op            1312074 non-null float16\n",
      "mo_sin_rcnt_tl                   1312075 non-null float16\n",
      "mort_acc                         1312075 non-null float16\n",
      "mths_since_recent_bc             1298932 non-null float16\n",
      "mths_since_recent_inq            1185003 non-null float16\n",
      "num_accts_ever_120_pd            1312075 non-null float16\n",
      "num_actv_bc_tl                   1312075 non-null float16\n",
      "num_actv_rev_tl                  1312075 non-null float16\n",
      "num_bc_sats                      1312075 non-null float16\n",
      "num_bc_tl                        1312075 non-null float16\n",
      "num_il_tl                        1312075 non-null float16\n",
      "num_op_rev_tl                    1312075 non-null float16\n",
      "num_rev_accts                    1312074 non-null float16\n",
      "num_rev_tl_bal_gt_0              1312075 non-null float16\n",
      "num_sats                         1312075 non-null float16\n",
      "num_tl_120dpd_2m                 1260121 non-null float16\n",
      "num_tl_30dpd                     1312075 non-null float16\n",
      "num_tl_90g_dpd_24m               1312075 non-null float16\n",
      "num_tl_op_past_12m               1312075 non-null float16\n",
      "pct_tl_nvr_dlq                   1311921 non-null float16\n",
      "percent_bc_gt_75                 1297591 non-null float16\n",
      "pub_rec_bankruptcies             1312075 non-null float16\n",
      "tax_liens                        1312075 non-null float16\n",
      "tot_hi_cred_lim                  1312075 non-null float16\n",
      "total_bal_ex_mort                1312075 non-null float16\n",
      "total_bc_limit                   1312075 non-null float16\n",
      "total_il_high_credit_limit       1312075 non-null float16\n",
      "problematic_loan                 1312075 non-null float16\n",
      "term_ 60 months                  1312075 non-null float16\n",
      "pymnt_plan_y                     1312075 non-null float16\n",
      "application_type_Joint App       1312075 non-null float16\n",
      "hardship_flag_Y                  1312075 non-null float16\n",
      "debt_settlement_flag_Y           1312075 non-null float16\n",
      "disbursement_method_DirectPay    1312075 non-null float16\n",
      "prior_debt                       1312075 non-null float16\n",
      "home_owner                       1312075 non-null float16\n",
      "mortgage                         1312075 non-null float16\n",
      "credit_score                     1312075 non-null float16\n",
      "dtypes: float16(79)\n",
      "memory usage: 197.7 MB\n"
     ]
    }
   ],
   "source": [
    "loans.info()"
   ]
  },
  {
   "cell_type": "markdown",
   "metadata": {},
   "source": [
    "<a id='3.'></a>"
   ]
  }
 ],
 "metadata": {
  "kernelspec": {
   "display_name": "Python 3",
   "language": "python",
   "name": "python3"
  },
  "language_info": {
   "codemirror_mode": {
    "name": "ipython",
    "version": 3
   },
   "file_extension": ".py",
   "mimetype": "text/x-python",
   "name": "python",
   "nbconvert_exporter": "python",
   "pygments_lexer": "ipython3",
   "version": "3.7.6"
  }
 },
 "nbformat": 4,
 "nbformat_minor": 1
}
