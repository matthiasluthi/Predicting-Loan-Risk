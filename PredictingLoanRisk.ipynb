{
 "cells": [
  {
   "cell_type": "markdown",
   "metadata": {},
   "source": [
    "# <center>Portfolio Project: Predicting<br>Loan Risk</center>\n",
    "Welcome to my portfolio project, where I will build a model to predict which loans are risky. <br>\n",
    "I will demonstrate the complete data processing pipeline, from data prepration, model fitting and hyperparameter tuning with state-of-the-art gradient boosting machines. <br>\n",
    "Thank you for your time and reviewing my portfolio! "
   ]
  },
  {
   "cell_type": "markdown",
   "metadata": {},
   "source": [
    "**Content:** <br>\n",
    "1. [Data Info & Setup](#1.)<br>\n",
    "    1.1 [Creating the Target Variable](#1.1)<br>\n",
    "    1.2 [Filter data to information available at loan issuance](#1.2)<br>\n",
    "1. [Exploratory Data Analysis & Data Preparation](#2.)<br>\n",
    "    2.1 [Text Columns & Feature Engineering](#2.1)<br>\n",
    "    2.2 [Missing Data](#2.2)<br>\n",
    "    2.3 [Final Preparations & Train-Test-Split](#2.3)<br>\n",
    "1. [Modeling](#3.)<br>\n",
    "    3.1 [Logistic Regression](#3.1)<br>\n",
    "    3.2 [Support Vector Classifier with Stochastic Gradient Descent](#3.2)<br>\n",
    "\n",
    "\n"
   ]
  },
  {
   "cell_type": "markdown",
   "metadata": {},
   "source": [
    "<a id='1.'></a>"
   ]
  },
  {
   "cell_type": "markdown",
   "metadata": {},
   "source": [
    "# 1. Data Info & Setup"
   ]
  },
  {
   "cell_type": "markdown",
   "metadata": {},
   "source": [
    "This is a [publicly available data set](http://https://www.lendingclub.com/auth/login?login_url=%2Finfo%2Fdownload-data.action) from LendingClub, an American peer-to-peer lending company.  I will build a model to predict which loans had been paid back completely and without delay. This will provide valueable information for future loan decisions. "
   ]
  },
  {
   "cell_type": "code",
   "execution_count": 1,
   "metadata": {
    "_cell_guid": "b1076dfc-b9ad-4769-8c92-a6c4dae69d19",
    "_uuid": "8f2839f25d086af736a60e9eeb907d3b93b6e0e5"
   },
   "outputs": [],
   "source": [
    "# Import standard libraries\n",
    "import numpy as np\n",
    "import pandas as pd \n",
    "import matplotlib.pyplot as plt\n",
    "import seaborn as sns\n",
    "import pandas_profiling as pp\n",
    "\n",
    "%matplotlib inline \n",
    "sns.set_style(\"whitegrid\")"
   ]
  },
  {
   "cell_type": "code",
   "execution_count": 2,
   "metadata": {
    "_cell_guid": "79c7e3d0-c299-4dcb-8224-4455121ee9b0",
    "_uuid": "d629ff2d2480ee46fbb7e2d37f6b5fab8052498a"
   },
   "outputs": [],
   "source": [
    "# Load the data\n",
    "df = pd.read_csv(\"../../accepted_2007_to_2018Q4.csv\", low_memory=False)"
   ]
  },
  {
   "cell_type": "markdown",
   "metadata": {},
   "source": [
    "<a id='1.1'></a>"
   ]
  },
  {
   "cell_type": "markdown",
   "metadata": {},
   "source": [
    "## 1.1 Creating the Target Variable\n",
    "There is one variable informing about loan status.\n",
    "Let's have a closer look: "
   ]
  },
  {
   "cell_type": "code",
   "execution_count": 3,
   "metadata": {},
   "outputs": [
    {
     "data": {
      "text/plain": [
       "Fully Paid                                             1076751\n",
       "Current                                                 878317\n",
       "Charged Off                                             268559\n",
       "Late (31-120 days)                                       21467\n",
       "In Grace Period                                           8436\n",
       "Late (16-30 days)                                         4349\n",
       "Does not meet the credit policy. Status:Fully Paid        1988\n",
       "Does not meet the credit policy. Status:Charged Off        761\n",
       "Default                                                     40\n",
       "Name: loan_status, dtype: int64"
      ]
     },
     "execution_count": 3,
     "metadata": {},
     "output_type": "execute_result"
    }
   ],
   "source": [
    "df[\"loan_status\"].value_counts()"
   ]
  },
  {
   "cell_type": "markdown",
   "metadata": {},
   "source": [
    "I will use loan_status to create a binary variable, which marks problematic \n",
    "loans. This will become my **target variable** for modeling. "
   ]
  },
  {
   "cell_type": "code",
   "execution_count": 4,
   "metadata": {},
   "outputs": [],
   "source": [
    "problematic_loans = [\"Charged Off\", \"Default\", \"In Grace Period\", \n",
    "                     \"Does not meet the credit policy. Status:Charged Off\", \n",
    "                     \"Late (16-30 days)\", \"Late (31-120 days)\"]\n",
    "\n",
    "df[\"problematic_loan\"] = df[\"loan_status\"].apply(lambda s: int(s in problematic_loans))"
   ]
  },
  {
   "cell_type": "code",
   "execution_count": 5,
   "metadata": {},
   "outputs": [],
   "source": [
    "# I drop all current loans from analysis. We don't know whether they will \n",
    "# become problamtic loans or not and I will therefore exclude them\n",
    "df = df[df[\"loan_status\"] != \"Current\"]"
   ]
  },
  {
   "cell_type": "code",
   "execution_count": 6,
   "metadata": {},
   "outputs": [
    {
     "data": {
      "image/png": "[encoded data removed]",
      "text/plain": [
       "<Figure size 720x360 with 1 Axes>"
      ]
     },
     "metadata": {},
     "output_type": "display_data"
    }
   ],
   "source": [
    "labels = \"Problematic Loans\", \"Good Loans\"\n",
    "sizes = [df[\"problematic_loan\"].sum()/len(df), 1 - df[\"problematic_loan\"].sum()/len(df)]\n",
    "\n",
    "\n",
    "plt.figure(figsize=(10,5))\n",
    "plt.pie(sizes, labels=labels, autopct='%1.1f%%',\n",
    "        shadow=True)\n",
    "\n",
    "plt.show()"
   ]
  },
  {
   "cell_type": "markdown",
   "metadata": {},
   "source": [
    "The dataset is slightly imbalanced. I will return to this issue at the end of the data preparation section"
   ]
  },
  {
   "cell_type": "markdown",
   "metadata": {},
   "source": [
    "<a id='1.2'></a>"
   ]
  },
  {
   "cell_type": "markdown",
   "metadata": {},
   "source": [
    "## 1.2 Filter data to information available at loan issuance\n",
    "The original data file contains a lot ofm,ore information which were not available yet at loan issuance. Therefore this information cannot be used to predict loan risk. Through careful inspection, I have created the following list with all variables available at loan issuance and will use it to filter the data.  "
   ]
  },
  {
   "cell_type": "code",
   "execution_count": 7,
   "metadata": {},
   "outputs": [],
   "source": [
    "available_features = ['acc_now_delinq', 'acc_open_past_24mths', 'addr_state',\n",
    " 'all_util', 'annual_inc', 'annual_inc_joint', 'application_type', 'avg_cur_bal',\n",
    " 'bc_open_to_buy', 'bc_util', 'chargeoff_within_12_mths', 'collections_12_mths_ex_med',\n",
    " 'delinq_2yrs', 'delinq_amnt', 'desc', 'disbursement_method', 'dti', 'dti_joint',\n",
    " 'earliest_cr_line', 'emp_length', 'emp_title', 'fico_range_high', 'fico_range_low',\n",
    " 'funded_amnt', 'grade', 'home_ownership', 'id', 'il_util', 'initial_list_status',\n",
    " 'inq_fi', 'inq_last_12m', 'inq_last_6mths', 'installment', 'int_rate', 'loan_amnt',\n",
    " 'max_bal_bc', 'member_id', 'mo_sin_old_il_acct', 'mo_sin_old_rev_tl_op', 'mo_sin_rcnt_rev_tl_op',\n",
    " 'mo_sin_rcnt_tl', 'mort_acc', 'mths_since_last_delinq', 'mths_since_last_major_derog',\n",
    " 'mths_since_last_record', 'mths_since_rcnt_il', 'mths_since_recent_bc', 'mths_since_recent_bc_dlq',\n",
    " 'mths_since_recent_inq', 'mths_since_recent_revol_delinq', 'num_accts_ever_120_pd',\n",
    " 'num_actv_bc_tl', 'num_actv_rev_tl', 'num_bc_sats', 'num_bc_tl', 'num_il_tl',\n",
    " 'num_op_rev_tl', 'num_rev_accts', 'num_rev_tl_bal_gt_0', 'num_sats', 'num_tl_120dpd_2m',\n",
    " 'num_tl_30dpd', 'num_tl_90g_dpd_24m', 'num_tl_op_past_12m', 'open_acc', 'open_acc_6m',\n",
    " 'open_act_il', 'open_il_12m', 'open_il_24m', 'open_rv_12m', 'open_rv_24m', 'pct_tl_nvr_dlq',\n",
    " 'percent_bc_gt_75', 'pub_rec', 'pub_rec_bankruptcies', 'purpose', 'revol_bal',\n",
    " 'revol_bal_joint', 'revol_util', 'sec_app_chargeoff_within_12_mths', 'sec_app_collections_12_mths_ex_med',\n",
    " 'sec_app_earliest_cr_line', 'sec_app_fico_range_high', 'sec_app_fico_range_low',\n",
    " 'sec_app_inq_last_6mths', 'sec_app_mort_acc', 'sec_app_mths_since_last_major_derog',\n",
    " 'sec_app_num_rev_accts', 'sec_app_open_acc', 'sec_app_open_act_il', 'sec_app_revol_util',\n",
    " 'sub_grade', 'tax_liens', 'term', 'title', 'tot_coll_amt', 'tot_cur_bal', 'tot_hi_cred_lim',\n",
    " 'total_acc', 'total_bal_ex_mort', 'total_bal_il', 'total_bc_limit', 'total_cu_tl',\n",
    " 'total_il_high_credit_limit', 'total_rev_hi_lim', 'url', 'verification_status',\n",
    " 'verification_status_joint', 'zip_code', 'problematic_loan']\n"
   ]
  },
  {
   "cell_type": "code",
   "execution_count": 8,
   "metadata": {},
   "outputs": [],
   "source": [
    "df_filter = df[available_features]"
   ]
  },
  {
   "cell_type": "code",
   "execution_count": 9,
   "metadata": {
    "scrolled": true
   },
   "outputs": [
    {
     "name": "stdout",
     "output_type": "stream",
     "text": [
      "<class 'pandas.core.frame.DataFrame'>\n",
      "Int64Index: 1382384 entries, 0 to 2260700\n",
      "Columns: 110 entries, acc_now_delinq to problematic_loan\n",
      "dtypes: float64(89), int64(1), object(20)\n",
      "memory usage: 1.1+ GB\n"
     ]
    }
   ],
   "source": [
    "df_filter.info()"
   ]
  },
  {
   "cell_type": "markdown",
   "metadata": {},
   "source": [
    "The file contains over 1 million loans and 109 variables describing each loan and customer. "
   ]
  },
  {
   "cell_type": "markdown",
   "metadata": {},
   "source": [
    "<a id='2.'></a>"
   ]
  },
  {
   "cell_type": "markdown",
   "metadata": {},
   "source": [
    "# 2. Exploratory Data Analysis & Data Preparation"
   ]
  },
  {
   "cell_type": "markdown",
   "metadata": {},
   "source": [
    "<a id='2.1'></a>"
   ]
  },
  {
   "cell_type": "markdown",
   "metadata": {},
   "source": [
    "# 2.1 Text Columns & Feature Engineering"
   ]
  },
  {
   "cell_type": "code",
   "execution_count": 10,
   "metadata": {},
   "outputs": [
    {
     "name": "stdout",
     "output_type": "stream",
     "text": [
      "addr_state has 51 unique values.\n",
      "application_type has 2 unique values.\n",
      "Individual    1352767\n",
      "Joint App       29584\n",
      "Name: application_type, dtype: int64\n",
      "desc has 124416 unique values.\n",
      "disbursement_method has 2 unique values.\n",
      "Cash         1374460\n",
      "DirectPay       7891\n",
      "Name: disbursement_method, dtype: int64\n",
      "earliest_cr_line has 739 unique values.\n",
      "emp_length has 11 unique values.\n",
      "emp_title has 385454 unique values.\n",
      "grade has 7 unique values.\n",
      "B    400654\n",
      "C    394346\n",
      "A    237488\n",
      "D    209286\n",
      "E     97559\n",
      "F     33315\n",
      "G      9703\n",
      "Name: grade, dtype: int64\n",
      "home_ownership has 6 unique values.\n",
      "MORTGAGE    682142\n",
      "RENT        550448\n",
      "OWN         149215\n",
      "ANY            311\n",
      "OTHER          182\n",
      "NONE            53\n",
      "Name: home_ownership, dtype: int64\n",
      "id has 1382384 unique values.\n",
      "initial_list_status has 2 unique values.\n",
      "w    810885\n",
      "f    571466\n",
      "Name: initial_list_status, dtype: int64\n",
      "purpose has 14 unique values.\n",
      "sec_app_earliest_cr_line has 585 unique values.\n",
      "sub_grade has 35 unique values.\n",
      "term has 2 unique values.\n",
      " 36 months    1043059\n",
      " 60 months     339292\n",
      "Name: term, dtype: int64\n",
      "title has 63154 unique values.\n",
      "url has 1382351 unique values.\n",
      "verification_status has 3 unique values.\n",
      "Source Verified    536031\n",
      "Verified           429617\n",
      "Not Verified       416703\n",
      "Name: verification_status, dtype: int64\n",
      "verification_status_joint has 3 unique values.\n",
      "Not Verified       16471\n",
      "Source Verified     7504\n",
      "Verified            5353\n",
      "Name: verification_status_joint, dtype: int64\n",
      "zip_code has 946 unique values.\n"
     ]
    }
   ],
   "source": [
    "#List all text columns\n",
    "for c in df_filter.columns:\n",
    "    if df_filter[c].dtype  == \"object\":\n",
    "        print(c, \"has\", df_filter[c].nunique(), \"unique values.\")\n",
    "        if df_filter[c].nunique() < 11: \n",
    "                print(df_filter[c].value_counts())"
   ]
  },
  {
   "cell_type": "markdown",
   "metadata": {},
   "source": [
    "### Creating dummy variables \n",
    "As we can see abosve, some text columns are binary. I inspected them further and decided to transform the ones which I consider potentially predictive to dummy varibles:"
   ]
  },
  {
   "cell_type": "code",
   "execution_count": 11,
   "metadata": {},
   "outputs": [],
   "source": [
    "#Creating dummy variables from potentially interesting binary categorical variables: \n",
    "df_dummies = pd.get_dummies(df_filter, columns=[\"term\",\"application_type\", 'disbursement_method'])"
   ]
  },
  {
   "cell_type": "markdown",
   "metadata": {},
   "source": [
    "### Feature Engineering\n",
    "\n",
    "With more exploration, I identified a few text columns with binary values. 3 text variables which have \n",
    "interesting information: <br>\n",
    "- \"purpose\" indicates whether a customer already had prior debt\n",
    "- \"home_ownership\" indicates whether someone owns a house with or without mortgage \n",
    "- \"grade\" refers to credit score grade <br>\n",
    "<br>\n",
    "I transform the first two variables into binary dummy variables and grade into a continuos variable. \n",
    "\n",
    "**Prior debt from purpose**"
   ]
  },
  {
   "cell_type": "code",
   "execution_count": 12,
   "metadata": {},
   "outputs": [
    {
     "data": {
      "text/plain": [
       "Text(0.5, 1.0, 'Prior Debt')"
      ]
     },
     "execution_count": 12,
     "metadata": {},
     "output_type": "execute_result"
    },
    {
     "data": {
      "image/png": "[encoded data removed]",
      "text/plain": [
       "<Figure size 576x288 with 1 Axes>"
      ]
     },
     "metadata": {},
     "output_type": "display_data"
    }
   ],
   "source": [
    "def check_prior_debt(s):\n",
    "    if s in [\"debt_consolidation\", \"credit_card\"]:\n",
    "        return 1\n",
    "    else:\n",
    "        return 0\n",
    "    \n",
    "df_dummies[\"prior_debt\"] = df_dummies[\"purpose\"].apply(check_prior_debt)\n",
    "\n",
    "#Most loaners had prior debt: \n",
    "plt.figure(figsize=(8,4))\n",
    "sns.countplot(df_dummies[\"prior_debt\"])\n",
    "plt.title(\"Prior Debt\")"
   ]
  },
  {
   "cell_type": "markdown",
   "metadata": {},
   "source": [
    "**Home ownership and mortgage**"
   ]
  },
  {
   "cell_type": "code",
   "execution_count": 13,
   "metadata": {},
   "outputs": [
    {
     "data": {
      "text/plain": [
       "Text(0.5, 1.0, 'Home ownership')"
      ]
     },
     "execution_count": 13,
     "metadata": {},
     "output_type": "execute_result"
    },
    {
     "data": {
      "image/png": "[encoded data removed]",
      "text/plain": [
       "<Figure size 576x288 with 1 Axes>"
      ]
     },
     "metadata": {},
     "output_type": "display_data"
    }
   ],
   "source": [
    "df_dummies[\"home_owner\"] = df_dummies[\"home_ownership\"].apply(lambda s: int(s == \"OWN\"))\n",
    "df_dummies[\"mortgage\"] = df_dummies[\"home_ownership\"].apply(lambda s: int(s == \"MORTGAGE\"))\n",
    "\n",
    "#Few loaners own a house without mortgage: \n",
    "plt.figure(figsize=(8,4))\n",
    "sns.countplot(df_dummies[\"home_ownership\"])\n",
    "plt.title(\"Home ownership\")"
   ]
  },
  {
   "cell_type": "markdown",
   "metadata": {},
   "source": [
    "**Credit Card Score**"
   ]
  },
  {
   "cell_type": "code",
   "execution_count": 14,
   "metadata": {},
   "outputs": [
    {
     "data": {
      "text/plain": [
       "B    400654\n",
       "C    394346\n",
       "A    237488\n",
       "D    209286\n",
       "E     97559\n",
       "F     33315\n",
       "G      9703\n",
       "Name: grade, dtype: int64"
      ]
     },
     "execution_count": 14,
     "metadata": {},
     "output_type": "execute_result"
    }
   ],
   "source": [
    "df_dummies[\"grade\"].value_counts()"
   ]
  },
  {
   "cell_type": "code",
   "execution_count": 15,
   "metadata": {},
   "outputs": [
    {
     "data": {
      "text/plain": [
       "<matplotlib.axes._subplots.AxesSubplot at 0x24dd751ee48>"
      ]
     },
     "execution_count": 15,
     "metadata": {},
     "output_type": "execute_result"
    },
    {
     "data": {
      "image/png": "[encoded data removed]",
      "text/plain": [
       "<Figure size 432x288 with 1 Axes>"
      ]
     },
     "metadata": {},
     "output_type": "display_data"
    }
   ],
   "source": [
    "cs_convert = {\"A\": 1, \"B\": 2, \"C\": 3, \"D\": 4, \"E\": 5, \"F\": 6, \"G\": 7, \"NaN\": np.nan}\n",
    "df_dummies[\"credit_score\"] = df_dummies[\"grade\"].apply(lambda s: \n",
    "                                                       cs_convert[s] if pd.notnull(s) else s)\n",
    "\n",
    "sns.countplot(df_dummies[df_dummies[\"credit_score\"].notnull()][\"credit_score\"])"
   ]
  },
  {
   "cell_type": "markdown",
   "metadata": {},
   "source": [
    "### Delete text columns\n",
    "After having engineered new features from some text columns and turned others into dummy variables, \n",
    "I will delete all text columns:"
   ]
  },
  {
   "cell_type": "code",
   "execution_count": 16,
   "metadata": {},
   "outputs": [],
   "source": [
    "#Delete text columns irrelevant for modeling\n",
    "df_dummies.drop(['id', 'member_id', 'emp_title', 'url', 'desc', 'zip_code', 'title', 'sub_grade', \n",
    "                 'emp_title', 'emp_length', 'purpose', 'addr_state', 'earliest_cr_line', \n",
    "                 'sec_app_earliest_cr_line', 'home_ownership', 'home_ownership', \n",
    "                 'initial_list_status', 'grade', 'verification_status', 'verification_status_joint'], \n",
    "                axis=1, inplace=True)"
   ]
  },
  {
   "cell_type": "markdown",
   "metadata": {},
   "source": [
    "<a id='2.2'></a>"
   ]
  },
  {
   "cell_type": "markdown",
   "metadata": {},
   "source": [
    "### 2.2 Missing Data"
   ]
  },
  {
   "cell_type": "markdown",
   "metadata": {},
   "source": [
    "Over 2 million loans is a lot of data to process. To speed up the subsequent modeling process, I will delete rows and columns with a lot of missings."
   ]
  },
  {
   "cell_type": "markdown",
   "metadata": {},
   "source": [
    "**Missings per column**"
   ]
  },
  {
   "cell_type": "code",
   "execution_count": 17,
   "metadata": {},
   "outputs": [
    {
     "data": {
      "text/plain": [
       "Text(0.5, 0, 'Columns')"
      ]
     },
     "execution_count": 17,
     "metadata": {},
     "output_type": "execute_result"
    },
    {
     "data": {
      "image/png": "[encoded data removed]",
      "text/plain": [
       "<Figure size 432x288 with 1 Axes>"
      ]
     },
     "metadata": {
      "needs_background": "light"
     },
     "output_type": "display_data"
    }
   ],
   "source": [
    "%matplotlib inline\n",
    "missings_column = df_dummies.isnull().sum(axis=0).unique().tolist()\n",
    "#Get the percentage of missing values per column\n",
    "plt.plot([s/len(df_dummies) for s in sorted(missings_column, reverse=True)], marker=\"o\")\n",
    "plt.ylabel(\"Percent missing\")\n",
    "plt.xlabel(\"Columns\")"
   ]
  },
  {
   "cell_type": "markdown",
   "metadata": {},
   "source": [
    "There are columns with many missing but then there is a sudden drop from 50% to 13% missing. I will exclude all columns with more than 50% missing:"
   ]
  },
  {
   "cell_type": "code",
   "execution_count": 18,
   "metadata": {},
   "outputs": [],
   "source": [
    "df_nomiss = df_dummies.dropna(axis=1, thresh=df_dummies.shape[0]*.50)"
   ]
  },
  {
   "cell_type": "markdown",
   "metadata": {},
   "source": [
    "**Missings per row**"
   ]
  },
  {
   "cell_type": "code",
   "execution_count": 19,
   "metadata": {},
   "outputs": [
    {
     "data": {
      "text/plain": [
       "Text(0.5, 0, 'Rows')"
      ]
     },
     "execution_count": 19,
     "metadata": {},
     "output_type": "execute_result"
    },
    {
     "data": {
      "image/png": "[encoded data removed]",
      "text/plain": [
       "<Figure size 432x288 with 1 Axes>"
      ]
     },
     "metadata": {
      "needs_background": "light"
     },
     "output_type": "display_data"
    }
   ],
   "source": [
    "missings_row = df_nomiss.isnull().sum(axis=1).unique().tolist()\n",
    "#Get the percentage of missing values per column\n",
    "plt.plot([s/df_nomiss.shape[1] for s in sorted(missings_row, reverse=True)], marker=\"o\")\n",
    "plt.ylabel(\"Percent missing\")\n",
    "plt.xlabel(\"Rows\")"
   ]
  },
  {
   "cell_type": "markdown",
   "metadata": {},
   "source": [
    "There is a jump from around 35% to 12% missing in a row. I will drop all cases with at least 35% missing. "
   ]
  },
  {
   "cell_type": "code",
   "execution_count": 20,
   "metadata": {},
   "outputs": [],
   "source": [
    "df_nomiss = df_nomiss.dropna(axis=0, thresh=0.6*df_nomiss.shape[1])"
   ]
  },
  {
   "cell_type": "markdown",
   "metadata": {},
   "source": [
    "*Quick look at the proprocessed data:*"
   ]
  },
  {
   "cell_type": "code",
   "execution_count": 21,
   "metadata": {},
   "outputs": [
    {
     "data": {
      "text/plain": [
       "(1332067, 66)"
      ]
     },
     "execution_count": 21,
     "metadata": {},
     "output_type": "execute_result"
    }
   ],
   "source": [
    "df_nomiss.shape"
   ]
  },
  {
   "cell_type": "code",
   "execution_count": 22,
   "metadata": {},
   "outputs": [
    {
     "data": {
      "image/png": "[encoded data removed]",
      "text/plain": [
       "<Figure size 720x360 with 1 Axes>"
      ]
     },
     "metadata": {},
     "output_type": "display_data"
    }
   ],
   "source": [
    "labels = \"Problematic Loans\", \"Good Loans\"\n",
    "sizes = [df_nomiss[\"problematic_loan\"].sum()/len(df_nomiss), \n",
    "         1 - df_nomiss[\"problematic_loan\"].sum()/len(df_nomiss)]\n",
    "\n",
    "\n",
    "plt.figure(figsize=(10,5))\n",
    "plt.pie(sizes, labels=labels, autopct='%1.1f%%',\n",
    "        shadow=True)\n",
    "\n",
    "plt.show()"
   ]
  },
  {
   "cell_type": "markdown",
   "metadata": {},
   "source": [
    "The removal of rows and columns based on missings has not changed the relative amount of problematic loans. This is good because there was no systematic connection between the problematic loans and these missing data. There are still over 1.3 million cases and 65 features.  "
   ]
  },
  {
   "cell_type": "markdown",
   "metadata": {},
   "source": [
    "<a id='2.3'></a>"
   ]
  },
  {
   "cell_type": "markdown",
   "metadata": {},
   "source": [
    "## 2.3 Undersampling & Train-Test-Split"
   ]
  },
  {
   "cell_type": "markdown",
   "metadata": {},
   "source": [
    "1.3 million cases is a lot and will slow down modeling. I will reduce it to approximately 200,000 cases.\n",
    "\n",
    "This is also an imbalanced dataset where the target \"problematic loans\" is underrepresented by a ratio of about  4:1. There is no a-priori way of knowing whether the imbalance will negatively affect model performance. Furthermore, some models also have built-in \"cost-senstive\" techniques which give more weight to the underrepresented class. Thus, I will create **a balanced resampled dataset and an imbalanced resampled dataset** (leaving the distribution \"as is\") and will train and test with both, to find the best model fit. \n",
    "\n",
    "**Balanced Resampled Dataset**"
   ]
  },
  {
   "cell_type": "code",
   "execution_count": 23,
   "metadata": {},
   "outputs": [],
   "source": [
    "good_loans = df_nomiss[df_nomiss[\"problematic_loan\"] == 0]\n",
    "problematic_loans = df_nomiss[df_nomiss[\"problematic_loan\"] == 1]"
   ]
  },
  {
   "cell_type": "markdown",
   "metadata": {},
   "source": [
    "In the next step, I resample a higher fraction from the problematic loans, which results in a balanced dataset."
   ]
  },
  {
   "cell_type": "code",
   "execution_count": 24,
   "metadata": {},
   "outputs": [],
   "source": [
    "balanced_subsample_good = good_loans.sample(frac = 0.1)\n",
    "balanced_subsample_problematic = problematic_loans.sample(frac = 0.3)"
   ]
  },
  {
   "cell_type": "code",
   "execution_count": 25,
   "metadata": {},
   "outputs": [],
   "source": [
    "balanced_subsample = pd.concat([balanced_subsample_problematic, balanced_subsample_good])"
   ]
  },
  {
   "cell_type": "code",
   "execution_count": 26,
   "metadata": {},
   "outputs": [
    {
     "data": {
      "text/plain": [
       "(192387, 66)"
      ]
     },
     "execution_count": 26,
     "metadata": {},
     "output_type": "execute_result"
    }
   ],
   "source": [
    "balanced_subsample.shape"
   ]
  },
  {
   "cell_type": "code",
   "execution_count": 27,
   "metadata": {},
   "outputs": [
    {
     "data": {
      "image/png": "[encoded data removed]",
      "text/plain": [
       "<Figure size 720x360 with 1 Axes>"
      ]
     },
     "metadata": {},
     "output_type": "display_data"
    }
   ],
   "source": [
    "labels = \"Problematic Loans\", \"Good Loans\"\n",
    "sizes = [balanced_subsample[\"problematic_loan\"].sum()/len(balanced_subsample), \n",
    "         1 - balanced_subsample[\"problematic_loan\"].sum()/len(balanced_subsample)]\n",
    "\n",
    "\n",
    "plt.figure(figsize=(10,5))\n",
    "plt.pie(sizes, labels=labels, autopct='%1.1f%%',\n",
    "        shadow=True)\n",
    "plt.title(\"Balanced subsample\")\n",
    "plt.show()"
   ]
  },
  {
   "cell_type": "code",
   "execution_count": 28,
   "metadata": {},
   "outputs": [],
   "source": [
    "y_balanced = balanced_subsample[\"problematic_loan\"]\n",
    "X_balanced = balanced_subsample.drop(\"problematic_loan\", axis=1)"
   ]
  },
  {
   "cell_type": "markdown",
   "metadata": {},
   "source": [
    "**Imbalanced Resampled Dataset**\n",
    "\n",
    "This time I will use the separate datasets for good and problematic to ensure that the distributions are preserved."
   ]
  },
  {
   "cell_type": "code",
   "execution_count": 29,
   "metadata": {},
   "outputs": [],
   "source": [
    "imbalanced_subsample_good = good_loans.sample(frac = 0.15)\n",
    "imbalanced_subsample_problematic = problematic_loans.sample(frac = 0.15)"
   ]
  },
  {
   "cell_type": "code",
   "execution_count": 30,
   "metadata": {},
   "outputs": [],
   "source": [
    "imbalanced_subsample = pd.concat([imbalanced_subsample_problematic, imbalanced_subsample_good])"
   ]
  },
  {
   "cell_type": "code",
   "execution_count": 33,
   "metadata": {},
   "outputs": [
    {
     "data": {
      "image/png": "[encoded data removed]",
      "text/plain": [
       "<Figure size 720x360 with 1 Axes>"
      ]
     },
     "metadata": {},
     "output_type": "display_data"
    }
   ],
   "source": [
    "labels = \"Problematic Loans\", \"Good Loans\"\n",
    "sizes = [imbalanced_subsample[\"problematic_loan\"].sum()/len(imbalanced_subsample), \n",
    "         1 - imbalanced_subsample[\"problematic_loan\"].sum()/len(imbalanced_subsample)]\n",
    "\n",
    "\n",
    "plt.figure(figsize=(10,5))\n",
    "plt.pie(sizes, labels=labels, autopct='%1.1f%%',\n",
    "        shadow=True)\n",
    "plt.title(\"Imbalanced ('as-is') subsample\")\n",
    "plt.show()"
   ]
  },
  {
   "cell_type": "code",
   "execution_count": 34,
   "metadata": {},
   "outputs": [],
   "source": [
    "y_imbalanced = imbalanced_subsample[\"problematic_loan\"]\n",
    "X_imbalanced = imbalanced_subsample.drop(\"problematic_loan\", axis=1)"
   ]
  },
  {
   "cell_type": "markdown",
   "metadata": {},
   "source": [
    "**Train-Test-Split**"
   ]
  },
  {
   "cell_type": "markdown",
   "metadata": {},
   "source": [
    "A common procedure is to split the the data into a training set, which is used to train model, and an independent test set, which is subsequently used to evaluate model performance.\n",
    "\n",
    "A usual split is to reserve 30-40% for testing. However, this is still a large dataset so I will reduce the test sample to 20%. I will use stratification to preserve the relative amount of problematic and good loans in both sets. "
   ]
  },
  {
   "cell_type": "code",
   "execution_count": 197,
   "metadata": {},
   "outputs": [],
   "source": [
    "from sklearn.model_selection import train_test_split"
   ]
  },
  {
   "cell_type": "code",
   "execution_count": 198,
   "metadata": {},
   "outputs": [],
   "source": [
    "X_train_bal, X_test_bal, y_train_bal, y_test_bal = train_test_split(X_balanced, y_balanced, \n",
    "                                                                    test_size=0.20, stratify=y_balanced)"
   ]
  },
  {
   "cell_type": "code",
   "execution_count": 199,
   "metadata": {},
   "outputs": [],
   "source": [
    "X_train_imb, X_test_imb, y_train_imb, y_test_imb = train_test_split(X_imbalanced, y_imbalanced, \n",
    "                                                                    test_size=0.20, stratify=y_imbalanced)"
   ]
  },
  {
   "cell_type": "markdown",
   "metadata": {},
   "source": [
    "I will  save the preprocessed and subsampled dataset, so it is possible later to continue this project directly from here without the need to repeat all preprocessing steps. "
   ]
  },
  {
   "cell_type": "code",
   "execution_count": 200,
   "metadata": {},
   "outputs": [],
   "source": [
    "X_train_imb.to_pickle(\"LoansData_ImbalancedSubsample_Xtrain.pkl\")\n",
    "y_train_imb.to_pickle(\"LoansData_ImbalancedSubsample_ytrain.pkl\")\n",
    "X_test_imb.to_pickle(\"LoansData_ImbalancedSubsample_Xtest.pkl\")\n",
    "y_test_imb.to_pickle(\"LoansData_ImbalancedSubsample_ytest.pkl\")\n",
    "\n",
    "X_train_imbal.to_pickle(\"LoansData_BalancedSubsample_Xtrain.pkl\")\n",
    "y_train_imbal.to_pickle(\"LoansData_BalancedSubsample_ytrain.pkl\")\n",
    "X_test_imbal.to_pickle(\"LoansData_BalancedSubsample_Xtest.pkl\")\n",
    "y_test_imbal.to_pickle(\"LoansData_BalancedSubsample_ytest.pkl\")"
   ]
  },
  {
   "cell_type": "markdown",
   "metadata": {},
   "source": [
    "Next I will do some \"housekeeping\" and delete dataframes from memory which are not used any more. "
   ]
  },
  {
   "cell_type": "code",
   "execution_count": 201,
   "metadata": {},
   "outputs": [
    {
     "data": {
      "text/plain": [
       "10053"
      ]
     },
     "execution_count": 201,
     "metadata": {},
     "output_type": "execute_result"
    }
   ],
   "source": [
    "#Save the feature names (will be useful later)\n",
    "features = list(df_nomiss)\n",
    "\n",
    "#delete dataframes\n",
    "del df\n",
    "del df_filter\n",
    "del df_dummies\n",
    "del df_nomiss\n",
    "del good_loans\n",
    "del problematic_loans\n",
    "del balanced_subsample_good\n",
    "del balanced_subsample_problematic\n",
    "del X_balanced\n",
    "del y_balanced\n",
    "del imbalanced_subsample_good\n",
    "del imbalanced_subsample_problematic\n",
    "del X_imbalanced\n",
    "del y_imbalanced\n",
    "\n",
    "#One of Python's \"weak\" spots is its handling of RAM, as it does not \n",
    "#free up memory space when variables are deleted. I will load a \"garbage collection\"\n",
    "#module to take care of this\n",
    "\n",
    "import gc\n",
    "\n",
    "gc.collect()"
   ]
  },
  {
   "cell_type": "markdown",
   "metadata": {},
   "source": [
    "**Save Point**"
   ]
  },
  {
   "cell_type": "markdown",
   "metadata": {},
   "source": [
    "Running the next cell will make it possible to continue this project from here: "
   ]
  },
  {
   "cell_type": "code",
   "execution_count": 36,
   "metadata": {},
   "outputs": [],
   "source": [
    "# Import libraries\n",
    "import numpy as np\n",
    "import pandas as pd \n",
    "import matplotlib.pyplot as plt\n",
    "import seaborn as sns\n",
    "import gc\n",
    "%matplotlib inline\n",
    "sns.set_style(\"white\")\n",
    "\n",
    "# Load files\n",
    "X_train_imb = pd.read_pickle(\"../../LoansData_ImbalancedSubsample_Xtrain.pkl\")\n",
    "y_train_imb = pd.read_pickle(\"../../LoansData_ImbalancedSubsample_ytrain.pkl\")\n",
    "X_test_imb = pd.read_pickle(\"../../LoansData_ImbalancedSubsample_Xtest.pkl\")\n",
    "y_test_imb = pd.read_pickle(\"../../LoansData_ImbalancedSubsample_ytest.pkl\")\n",
    "X_train_bal = pd.read_pickle(\"../../LoansData_BalancedSubsample_Xtrain.pkl\")\n",
    "y_train_bal = pd.read_pickle(\"../../LoansData_BalancedSubsample_ytrain.pkl\")\n",
    "X_test_bal = pd.read_pickle(\"../../LoansData_BalancedSubsample_Xtest.pkl\")\n",
    "y_test_bal = pd.read_pickle(\"../../LoansData_BalancedSubsample_ytest.pkl\")"
   ]
  },
  {
   "cell_type": "markdown",
   "metadata": {},
   "source": [
    "<a id='3.'></a>"
   ]
  },
  {
   "cell_type": "markdown",
   "metadata": {},
   "source": [
    "# 3. Modeling"
   ]
  },
  {
   "cell_type": "markdown",
   "metadata": {},
   "source": [
    "I will fit three different models. I will start with the \"classic\", which is logistic regression. Then I will use Support Vector Machines and finally XGBoost, a gradient tree boosting framework that has become very popular recently, frequently being the algortihm behind winning solutions on Kaggle and other machine learning competitions. For all models, I will use pipelines to prevent data leakage, cross validation (including stratificaiton for the imbalanced dataset), tuning of hyperparameters, and model evaluation. \n",
    "\n",
    "*Risk of Data Leakage:* <br>\n",
    "Preprocessing steps like standardization and normalization bring the danger of data leakage, especially when combined with cross-validation. This happens when these preprocessing steps are performed before the data is split into the training and validation set. In this case, information from the validation set has \"leaked\" into the training set. This can be circumvented by using \"pipelines\", where these preprocessing steps are performed separately for each training dataset. \n",
    "\n",
    "*Balanced & imbalanced dataset:*<br>\n",
    "I will perform the whole modeling process for both the imbalanced and balanced subsamples. For the imbalanced dataset, I will  employ two additional techniques: First, stratification during cross-validation, which ensures that the relative quantities of both classes will be maintained in all subsamples (folds). Second, I will use weighting which to give more weight to the minority class of problematic loans during model fitting. It will be interesting to see which dataset performs better. \n",
    "\n",
    "*Cross-validation & Stratification:*<br>\n",
    "Cross-validation is a technique where the model is fit several to different parts of the data. The final model parameters are based on the means of all these different models, which reduces the model's variance or dependency on a specific dataset.\n",
    "\n",
    "*Tuning of hyperparameters:*<br>\n",
    "Finally, I will also employ GridSearch. This is a technique where several models with different hyperparameters are trained to find the configuration with the best fit. Hyperparameters are parameters which concern the general model layout but cannot be adjsuted by training. \"Tuning\" of hyperparamters can quickly become computationally expensive, so I will focus on a few of the most important ones for each model. \n",
    "\n",
    "*Model evaluation:*<br>\n",
    "As evaluation metric, I will use confusion matrices and F2-scores. The F-score takes the harmonic mean of recall and specificity, and is better suited for imbalanced datasets than the more common accuracy measure. Furthermore, the F2-score gives more weight to sensitivity, at a possible increase in false positives. In this case, it means that more importance is given to identifying problematic loans.  "
   ]
  },
  {
   "cell_type": "markdown",
   "metadata": {},
   "source": [
    "<a id='3.1'></a>"
   ]
  },
  {
   "cell_type": "markdown",
   "metadata": {},
   "source": [
    "## 3.1 Logistic Regression"
   ]
  },
  {
   "cell_type": "markdown",
   "metadata": {},
   "source": [
    "Logistic regression attempts to minimize the squared distances between predictions and actual outcomes using a Sigmoid function. There are two additional preprocessing steps need for logistic regression to work optimally: Stanardization of predictor and impuation of all missing values. <br>\n",
    "\n",
    "In summary, these are the steps for logistic regression: \n",
    "- Standardization of predictor variables\n",
    "- Imputation of missing values\n",
    "- Model fitting with k-fold cross validation\n",
    "- GridSearch for hyperparameter tuning\n",
    "- Combine all the steps from above in a \"pipeline\" to prevent data leaking.\n",
    "- Model evaluation with F2-scores and confusion matrices"
   ]
  },
  {
   "cell_type": "code",
   "execution_count": 40,
   "metadata": {},
   "outputs": [],
   "source": [
    "from sklearn.pipeline import Pipeline\n",
    "from sklearn.preprocessing import StandardScaler\n",
    "from sklearn.impute import SimpleImputer\n",
    "from sklearn.linear_model import LogisticRegression\n",
    "from sklearn.model_selection import GridSearchCV, StratifiedKFold\n",
    "from sklearn.metrics import plot_confusion_matrix, make_scorer, fbeta_score"
   ]
  },
  {
   "cell_type": "markdown",
   "metadata": {},
   "source": [
    "**Balanced dataset**"
   ]
  },
  {
   "cell_type": "code",
   "execution_count": 70,
   "metadata": {},
   "outputs": [],
   "source": [
    "#Definition of pipleline and the hyperparamters for tuning\n",
    "pipe_reg_bal = Pipeline([(\"standardizer\", StandardScaler()), \n",
    "                         (\"mean_impute\", SimpleImputer()), \n",
    "                         (\"reg_model\", LogisticRegression(solver=\"saga\", \n",
    "                                                          max_iter=300))])\n",
    "param_grid_reg = {\"reg_model__C\":[1.0, 1.5, 2.0], \n",
    "                  \"reg_model__penalty\":[\"l1\", \"l2\"]}\n",
    "f2_scoring = make_scorer(fbeta_score, beta=2)"
   ]
  },
  {
   "cell_type": "code",
   "execution_count": 71,
   "metadata": {},
   "outputs": [
    {
     "name": "stdout",
     "output_type": "stream",
     "text": [
      "Fitting 5 folds for each of 6 candidates, totalling 30 fits\n"
     ]
    },
    {
     "name": "stderr",
     "output_type": "stream",
     "text": [
      "[Parallel(n_jobs=-1)]: Using backend LokyBackend with 8 concurrent workers.\n",
      "[Parallel(n_jobs=-1)]: Done  30 out of  30 | elapsed:  4.6min finished\n",
      "C:\\ProgramData\\Anaconda3\\lib\\site-packages\\sklearn\\linear_model\\_sag.py:330: ConvergenceWarning: The max_iter was reached which means the coef_ did not converge\n",
      "  \"the coef_ did not converge\", ConvergenceWarning)\n"
     ]
    },
    {
     "data": {
      "text/plain": [
       "GridSearchCV(cv=5, error_score=nan,\n",
       "             estimator=Pipeline(memory=None,\n",
       "                                steps=[('standardizer',\n",
       "                                        StandardScaler(copy=True,\n",
       "                                                       with_mean=True,\n",
       "                                                       with_std=True)),\n",
       "                                       ('mean_impute',\n",
       "                                        SimpleImputer(add_indicator=False,\n",
       "                                                      copy=True,\n",
       "                                                      fill_value=None,\n",
       "                                                      missing_values=nan,\n",
       "                                                      strategy='mean',\n",
       "                                                      verbose=0)),\n",
       "                                       ('reg_model',\n",
       "                                        LogisticRegression(C=1.0,\n",
       "                                                           class_weight=None,\n",
       "                                                           dual=False,\n",
       "                                                           fit_intercept=Tru...\n",
       "                                                           max_iter=300,\n",
       "                                                           multi_class='auto',\n",
       "                                                           n_jobs=None,\n",
       "                                                           penalty='l2',\n",
       "                                                           random_state=None,\n",
       "                                                           solver='saga',\n",
       "                                                           tol=0.0001,\n",
       "                                                           verbose=0,\n",
       "                                                           warm_start=False))],\n",
       "                                verbose=False),\n",
       "             iid='deprecated', n_jobs=-1,\n",
       "             param_grid={'reg_model__C': [1.0, 1.5, 2.0],\n",
       "                         'reg_model__penalty': ['l1', 'l2']},\n",
       "             pre_dispatch='2*n_jobs', refit=True, return_train_score=False,\n",
       "             scoring=make_scorer(fbeta_score, beta=2), verbose=1)"
      ]
     },
     "execution_count": 71,
     "metadata": {},
     "output_type": "execute_result"
    }
   ],
   "source": [
    "grid_reg_bal = GridSearchCV(pipe_reg_bal, param_grid=param_grid_reg, cv=5, \n",
    "                            verbose = 1, n_jobs=-1, scoring=f2_scoring)\n",
    "grid_reg_bal.fit(X_train_bal, y_train_bal)"
   ]
  },
  {
   "cell_type": "markdown",
   "metadata": {},
   "source": [
    "**Imbalanced Dataset**"
   ]
  },
  {
   "cell_type": "code",
   "execution_count": 72,
   "metadata": {},
   "outputs": [],
   "source": [
    "#Definition of pipleline for imbalanced dataset\n",
    "pipe_reg_imb = Pipeline([(\"standardizer\", StandardScaler()), \n",
    "                         (\"mean_impute\", SimpleImputer()), \n",
    "                         (\"reg_model\", LogisticRegression(solver=\"saga\", \n",
    "                                                          class_weight=\"balanced\", \n",
    "                                                          max_iter=300))])"
   ]
  },
  {
   "cell_type": "code",
   "execution_count": 73,
   "metadata": {},
   "outputs": [
    {
     "name": "stderr",
     "output_type": "stream",
     "text": [
      "[Parallel(n_jobs=-1)]: Using backend LokyBackend with 8 concurrent workers.\n"
     ]
    },
    {
     "name": "stdout",
     "output_type": "stream",
     "text": [
      "Fitting 5 folds for each of 6 candidates, totalling 30 fits\n"
     ]
    },
    {
     "name": "stderr",
     "output_type": "stream",
     "text": [
      "[Parallel(n_jobs=-1)]: Done  30 out of  30 | elapsed:  4.5min finished\n",
      "C:\\ProgramData\\Anaconda3\\lib\\site-packages\\sklearn\\linear_model\\_sag.py:330: ConvergenceWarning: The max_iter was reached which means the coef_ did not converge\n",
      "  \"the coef_ did not converge\", ConvergenceWarning)\n"
     ]
    },
    {
     "data": {
      "text/plain": [
       "GridSearchCV(cv=StratifiedKFold(n_splits=5, random_state=None, shuffle=False),\n",
       "             error_score=nan,\n",
       "             estimator=Pipeline(memory=None,\n",
       "                                steps=[('standardizer',\n",
       "                                        StandardScaler(copy=True,\n",
       "                                                       with_mean=True,\n",
       "                                                       with_std=True)),\n",
       "                                       ('mean_impute',\n",
       "                                        SimpleImputer(add_indicator=False,\n",
       "                                                      copy=True,\n",
       "                                                      fill_value=None,\n",
       "                                                      missing_values=nan,\n",
       "                                                      strategy='mean',\n",
       "                                                      verbose=0)),\n",
       "                                       ('reg_model',\n",
       "                                        LogisticRegre...\n",
       "                                                           max_iter=300,\n",
       "                                                           multi_class='auto',\n",
       "                                                           n_jobs=None,\n",
       "                                                           penalty='l2',\n",
       "                                                           random_state=None,\n",
       "                                                           solver='saga',\n",
       "                                                           tol=0.0001,\n",
       "                                                           verbose=0,\n",
       "                                                           warm_start=False))],\n",
       "                                verbose=False),\n",
       "             iid='deprecated', n_jobs=-1,\n",
       "             param_grid={'reg_model__C': [1.0, 1.5, 2.0],\n",
       "                         'reg_model__penalty': ['l1', 'l2']},\n",
       "             pre_dispatch='2*n_jobs', refit=True, return_train_score=False,\n",
       "             scoring=make_scorer(fbeta_score, beta=2), verbose=1)"
      ]
     },
     "execution_count": 73,
     "metadata": {},
     "output_type": "execute_result"
    }
   ],
   "source": [
    "#Parameter grid for model fitting with stratified k-fold cross-validation\n",
    "grid_reg_imb = GridSearchCV(pipe_reg_imb, param_grid=param_grid_reg, \n",
    "                            cv=StratifiedKFold(), scoring=f2_scoring, \n",
    "                            verbose = 1, n_jobs=-1)\n",
    "grid_reg_imb.fit(X_train_bal, y_train_bal)"
   ]
  },
  {
   "cell_type": "markdown",
   "metadata": {},
   "source": [
    "**Evaluation of Logistic Regression Models**"
   ]
  },
  {
   "cell_type": "code",
   "execution_count": 89,
   "metadata": {},
   "outputs": [
    {
     "data": {
      "text/plain": [
       "Text(0.5, 1.0, 'Balanced Subsampling\\n\\nOptimal hyperparameters:\\nC=1.5, penalty=l1\\n\\nF2-Score = 0.58')"
      ]
     },
     "execution_count": 89,
     "metadata": {},
     "output_type": "execute_result"
    },
    {
     "data": {
      "image/png": "[encoded data removed]",
      "text/plain": [
       "<Figure size 864x432 with 2 Axes>"
      ]
     },
     "metadata": {},
     "output_type": "display_data"
    }
   ],
   "source": [
    "#Preparation of text output\n",
    "f2_reg_imb = fbeta_score(y_test_imb, grid_reg_imb.predict(X_test_imb), 2)\n",
    "f2_reg_bal = fbeta_score(y_test_bal, grid_reg_bal.predict(X_test_bal), 2)\n",
    "title_reg_imb = ('Imbalanced Subsampling\\n\\n' + 'Optimal hyperparameters:\\n' + \n",
    "                 ', '.join(\"{}={}\".format(key[11:],val) for (key,val) \n",
    "                           in grid_reg_imb.best_params_.items()) + '\\n\\nF2-Score = ' + \n",
    "                 str(round(f2_reg_imb, ndigits=2)))\n",
    "title_reg_bal = ('Balanced Subsampling\\n\\n' + 'Optimal hyperparameters:\\n' + \n",
    "                 ', '.join(\"{}={}\".format(key[11:],val) for (key,val) \n",
    "                           in grid_reg_bal.best_params_.items()) + '\\n\\nF2-Score = ' + \n",
    "                 str(round(f2_reg_bal, ndigits=2)))\n",
    "\n",
    "#Creating the figure\n",
    "fig, ax = plt.subplots(1,2, figsize=(12,6))\n",
    "fig.suptitle('Logistic Regression', fontsize =16)\n",
    "\n",
    "#imbalanced classifiction (left side)\n",
    "pcm_imb = plot_confusion_matrix(grid_reg_imb, X_test_imb, y_test_imb, normalize=\"true\", \n",
    "                                ax = ax[0], values_format=\".2%\", \n",
    "                                display_labels=[\"Good loan\", \"Problematic loan\"])\n",
    "pcm_imb.im_.set_clim(0.1,0.9)\n",
    "pcm_imb.im_.colorbar.remove()\n",
    "ax[0].set_title(title_reg_imb)\n",
    "\n",
    "#balanced classification (right side)\n",
    "pcm_bal = plot_confusion_matrix(grid_reg_bal, X_test_bal, y_test_bal, normalize=\"true\", \n",
    "                                ax = ax[1], values_format=\".2%\", \n",
    "                                display_labels=[\"Good loan\", \"Problematic loan\"])\n",
    "pcm_bal.im_.set_clim(0.1,0.9)\n",
    "pcm_bal.im_.colorbar.remove()\n",
    "#pcm_bal.im_.axes.yaxis.set_visible(False)\n",
    "ax[1].set_title(title_reg_bal)"
   ]
  },
  {
   "cell_type": "markdown",
   "metadata": {},
   "source": [
    "**Conclusion for Logistic Regression**\n",
    "\n",
    "In the confusion matrices, we see the classication  for imbalanced (left) and balanced subsampling (right). While the imbalanced subsampling led to a slightly better sensitivity of 64% (percentage of problematic loans correctly identified), it did so at the cost of an increased rate of false positives (33% vs 26%). <br>\n",
    "Somewhat missleadingly, the F2-score is lower for the imbalanced dataset, which  performs slightly better according to the confusion matrix. This is because in terms of absolute values, there are much more good loans in the imbalanced dataset and therefore also more  good loans missclassified as problematic loans, which lowers the F2-score.<br>\n",
    "However, neither of the two logistic regression models performed very good. Regression models make a lot of assumptions about the predictor variables, e.g. normally distributed, independent from one another (no multicollinearity), homoscedastictiy. Carefullying checking these and correcting whenever possible might lead to some improvements. However, while logistic regression is \"the classic classifier\", nowadays there are more modern approaches which often outperform regression. \n",
    "I will move on to Support Vector Classifier and Gradient Boosting Machines, two machine learning algorithms which generally perform well and also are good complementary strategies to logsitic regression (e.g. see [Olson et al., 2017](https://arxiv.org/abs/1708.05070)). "
   ]
  },
  {
   "cell_type": "markdown",
   "metadata": {},
   "source": [
    "<a id='3.2'></a>"
   ]
  },
  {
   "cell_type": "markdown",
   "metadata": {},
   "source": [
    "## 3.2 Support Vector Classifier with Stochastic Gradient Descent"
   ]
  },
  {
   "cell_type": "markdown",
   "metadata": {},
   "source": [
    "Support Vector Classifier (SVC) is a non-parametric estimator with a different approach from other machine learning algorithms, and can sometimes yield good results when others fail. In very short, SVC tries to separate observations in the feature space by drawing hyperplanes between different categories. \n",
    "However, SVC doesn't scale very well with big datasets. I will overcome this problem by implementing a linear SVC model with Stochastic Gradient Descent (SGD), which is an iterative, random, and faster method to optimize the cost function. \n",
    "\n",
    "Like logistic regression, SGD demands standardized and imputed data. The steps are very similar to logistic regression: \n",
    "- Normalization of predictor variables\n",
    "- Imputation of missing values\n",
    "- Model fitting with k-fold cross validation\n",
    "- GridSearch for hyperparameter tuning\n",
    "- Combine all the steps from above in a \"pipeline\" to prevent data leaking.\n",
    "- Model evaluation with F1-scores and confusion matrices"
   ]
  },
  {
   "cell_type": "markdown",
   "metadata": {},
   "source": [
    "**Balanced Dataset**"
   ]
  },
  {
   "cell_type": "code",
   "execution_count": 84,
   "metadata": {},
   "outputs": [],
   "source": [
    "from sklearn.linear_model import SGDClassifier"
   ]
  },
  {
   "cell_type": "code",
   "execution_count": 90,
   "metadata": {},
   "outputs": [],
   "source": [
    "#Definition of pipleline and the hyperparamters for tuning\n",
    "pipe_sgd_bal = Pipeline([(\"standardizer\", StandardScaler()), \n",
    "                         (\"mean_impute\", SimpleImputer()), \n",
    "                         (\"sgd_model\", SGDClassifier())])\n",
    "param_grid_sgd = [{\"sgd_model__penalty\":[\"l2\", \"l1\"], \n",
    "                   \"sgd_model__alpha\":[0.00001, 0.0001, 0.001],\n",
    "                   \"sgd_model__learning_rate\":['optimal']},\n",
    "                  {\"sgd_model__penalty\":[\"l2\", \"l1\"], \n",
    "                   \"sgd_model__alpha\":[0.00001, 0.0001, 0.001],\n",
    "                   \"sgd_model__learning_rate\":['adaptive'],\n",
    "                   \"sgd_model__eta0\":[0.00001, 0.0001, 0.001, 0.01, 0.1]}]"
   ]
  },
  {
   "cell_type": "code",
   "execution_count": 91,
   "metadata": {},
   "outputs": [
    {
     "name": "stdout",
     "output_type": "stream",
     "text": [
      "Fitting 5 folds for each of 36 candidates, totalling 180 fits\n"
     ]
    },
    {
     "name": "stderr",
     "output_type": "stream",
     "text": [
      "[Parallel(n_jobs=-1)]: Using backend LokyBackend with 8 concurrent workers.\n",
      "[Parallel(n_jobs=-1)]: Done  25 tasks      | elapsed:   20.0s\n",
      "[Parallel(n_jobs=-1)]: Done 146 tasks      | elapsed:  1.4min\n",
      "[Parallel(n_jobs=-1)]: Done 180 out of 180 | elapsed:  1.7min finished\n"
     ]
    },
    {
     "data": {
      "text/plain": [
       "GridSearchCV(cv=5, error_score=nan,\n",
       "             estimator=Pipeline(memory=None,\n",
       "                                steps=[('standardizer',\n",
       "                                        StandardScaler(copy=True,\n",
       "                                                       with_mean=True,\n",
       "                                                       with_std=True)),\n",
       "                                       ('mean_impute',\n",
       "                                        SimpleImputer(add_indicator=False,\n",
       "                                                      copy=True,\n",
       "                                                      fill_value=None,\n",
       "                                                      missing_values=nan,\n",
       "                                                      strategy='mean',\n",
       "                                                      verbose=0)),\n",
       "                                       ('sgd_model',\n",
       "                                        SGDClassifier(alpha=0.0001,\n",
       "                                                      average=False,\n",
       "                                                      class_weight=None,\n",
       "                                                      early_stoppi...\n",
       "             param_grid=[{'sgd_model__alpha': [1e-05, 0.0001, 0.001],\n",
       "                          'sgd_model__learning_rate': ['optimal'],\n",
       "                          'sgd_model__penalty': ['l2', 'l1']},\n",
       "                         {'sgd_model__alpha': [1e-05, 0.0001, 0.001],\n",
       "                          'sgd_model__eta0': [1e-05, 0.0001, 0.001, 0.01, 0.1],\n",
       "                          'sgd_model__learning_rate': ['adaptive'],\n",
       "                          'sgd_model__penalty': ['l2', 'l1']}],\n",
       "             pre_dispatch='2*n_jobs', refit=True, return_train_score=False,\n",
       "             scoring=make_scorer(fbeta_score, beta=2), verbose=2)"
      ]
     },
     "execution_count": 91,
     "metadata": {},
     "output_type": "execute_result"
    }
   ],
   "source": [
    "grid_sgd_bal = GridSearchCV(pipe_sgd_bal, param_grid=param_grid_sgd, cv=5, \n",
    "                            scoring=f2_scoring, verbose = 2, n_jobs=-1)\n",
    "grid_sgd_bal.fit(X_train_bal, y_train_bal)"
   ]
  },
  {
   "cell_type": "markdown",
   "metadata": {},
   "source": [
    "**Imbalanced Dataset**"
   ]
  },
  {
   "cell_type": "code",
   "execution_count": 92,
   "metadata": {},
   "outputs": [],
   "source": [
    "#Definition of pipleline\n",
    "pipe_sgd_imb = Pipeline([(\"standardizer\", StandardScaler()),\n",
    "                         (\"mean_impute\", SimpleImputer()), \n",
    "                         (\"sgd_model\", SGDClassifier(class_weight=\"balanced\"))])"
   ]
  },
  {
   "cell_type": "code",
   "execution_count": 93,
   "metadata": {},
   "outputs": [
    {
     "name": "stdout",
     "output_type": "stream",
     "text": [
      "Fitting 5 folds for each of 36 candidates, totalling 180 fits\n"
     ]
    },
    {
     "name": "stderr",
     "output_type": "stream",
     "text": [
      "[Parallel(n_jobs=-1)]: Using backend LokyBackend with 8 concurrent workers.\n",
      "[Parallel(n_jobs=-1)]: Done  25 tasks      | elapsed:   17.2s\n",
      "[Parallel(n_jobs=-1)]: Done 146 tasks      | elapsed:  1.6min\n",
      "[Parallel(n_jobs=-1)]: Done 180 out of 180 | elapsed:  2.0min finished\n"
     ]
    },
    {
     "data": {
      "text/plain": [
       "GridSearchCV(cv=StratifiedKFold(n_splits=5, random_state=None, shuffle=False),\n",
       "             error_score=nan,\n",
       "             estimator=Pipeline(memory=None,\n",
       "                                steps=[('standardizer',\n",
       "                                        StandardScaler(copy=True,\n",
       "                                                       with_mean=True,\n",
       "                                                       with_std=True)),\n",
       "                                       ('mean_impute',\n",
       "                                        SimpleImputer(add_indicator=False,\n",
       "                                                      copy=True,\n",
       "                                                      fill_value=None,\n",
       "                                                      missing_values=nan,\n",
       "                                                      strategy='mean',\n",
       "                                                      verbose=0)),\n",
       "                                       ('sgd_model',\n",
       "                                        SGDClassifier...\n",
       "             param_grid=[{'sgd_model__alpha': [1e-05, 0.0001, 0.001],\n",
       "                          'sgd_model__learning_rate': ['optimal'],\n",
       "                          'sgd_model__penalty': ['l2', 'l1']},\n",
       "                         {'sgd_model__alpha': [1e-05, 0.0001, 0.001],\n",
       "                          'sgd_model__eta0': [1e-05, 0.0001, 0.001, 0.01, 0.1],\n",
       "                          'sgd_model__learning_rate': ['adaptive'],\n",
       "                          'sgd_model__penalty': ['l2', 'l1']}],\n",
       "             pre_dispatch='2*n_jobs', refit=True, return_train_score=False,\n",
       "             scoring=make_scorer(fbeta_score, beta=2), verbose=2)"
      ]
     },
     "execution_count": 93,
     "metadata": {},
     "output_type": "execute_result"
    }
   ],
   "source": [
    "#Parameter grid for model fitting with stratified k-fold cross-validation\n",
    "grid_sgd_imb = GridSearchCV(pipe_sgd_imb, param_grid=param_grid_sgd, cv=StratifiedKFold(), \n",
    "                            scoring=f2_scoring, verbose = 2, n_jobs=-1)\n",
    "grid_sgd_imb.fit(X_train_imb, y_train_imb)"
   ]
  },
  {
   "cell_type": "markdown",
   "metadata": {},
   "source": [
    "**Evaluation of Support Vector Classifier**"
   ]
  },
  {
   "cell_type": "code",
   "execution_count": 95,
   "metadata": {},
   "outputs": [
    {
     "data": {
      "text/plain": [
       "Text(0.5, 1.0, 'Balanced Subsampling\\n\\nOptimal hyperparameters:\\nalpha=1e-05, learning_rate=optimal, penalty=l2\\n\\nF2-Score = 0.61')"
      ]
     },
     "execution_count": 95,
     "metadata": {},
     "output_type": "execute_result"
    },
    {
     "data": {
      "image/png": "[encoded data removed]",
      "text/plain": [
       "<Figure size 864x432 with 2 Axes>"
      ]
     },
     "metadata": {},
     "output_type": "display_data"
    }
   ],
   "source": [
    "#Preparation of text output\n",
    "f2_sgd_imb = fbeta_score(y_test_imb, grid_sgd_imb.predict(X_test_imb), 2)\n",
    "f2_sgd_bal = fbeta_score(y_test_bal, grid_sgd_bal.predict(X_test_bal), 2)\n",
    "title_sgd_imb = ('Imbalanced Subsampling\\n\\n' + 'Optimal hyperparameters:\\n' + \n",
    "                 ', '.join(\"{}={}\".format(key[11:],val) \n",
    "                           for (key,val) in grid_sgd_imb.best_params_.items()) + \n",
    "                 '\\n\\nF2-Score = ' + str(round(f2_sgd_imb, ndigits=2)))\n",
    "title_sgd_bal = ('Balanced Subsampling\\n\\n' + 'Optimal hyperparameters:\\n' + \n",
    "                 ', '.join(\"{}={}\".format(key[11:],val) \n",
    "                           for (key,val) in grid_sgd_bal.best_params_.items()) + \n",
    "                 '\\n\\nF2-Score = ' + str(round(f2_sgd_bal, ndigits=2)))\n",
    "\n",
    "#Creating the figure\n",
    "fig, ax = plt.subplots(1,2, figsize=(12,6))\n",
    "fig.suptitle('Support Vector Classifier\\n with SGD', fontsize =16)\n",
    "\n",
    "#imbalanced classifiction (left side)\n",
    "pcm_imb = plot_confusion_matrix(grid_sgd_imb, X_test_imb, y_test_imb, normalize=\"true\", ax = ax[0], \n",
    "                                values_format=\".2%\", display_labels=[\"Good loan\", \"Problematic loan\"])\n",
    "pcm_imb.im_.set_clim(0.1,0.9)\n",
    "pcm_imb.im_.colorbar.remove()\n",
    "ax[0].set_title(title_sgd_imb)\n",
    "\n",
    "#balanced classification (right side)\n",
    "pcm_bal = plot_confusion_matrix(grid_sgd_bal, X_test_bal, y_test_bal, normalize=\"true\", ax = ax[1], \n",
    "                                values_format=\".2%\", display_labels=[\"Good loan\", \"Problematic loan\"])\n",
    "pcm_bal.im_.set_clim(0.1,0.9)\n",
    "pcm_bal.im_.colorbar.remove()\n",
    "#pcm_bal.im_.axes.yaxis.set_visible(False)\n",
    "ax[1].set_title(title_sgd_bal)"
   ]
  },
  {
   "cell_type": "markdown",
   "metadata": {},
   "source": [
    "**Conclusion for Support Vector Classifier**"
   ]
  },
  {
   "cell_type": "markdown",
   "metadata": {},
   "source": [
    "The two SVC models perform very similarly, with the imbalanced classification leading to a marginally better result. Also, SVC performs very similarly to logistic regression, which has a marginally better recall (64% vs. 62%) for the imbalanced dataset. "
   ]
  },
  {
   "cell_type": "code",
   "execution_count": null,
   "metadata": {},
   "outputs": [],
   "source": []
  },
  {
   "cell_type": "code",
   "execution_count": null,
   "metadata": {},
   "outputs": [],
   "source": []
  },
  {
   "cell_type": "code",
   "execution_count": null,
   "metadata": {},
   "outputs": [],
   "source": []
  }
 ],
 "metadata": {
  "kernelspec": {
   "display_name": "Python 3",
   "language": "python",
   "name": "python3"
  },
  "language_info": {
   "codemirror_mode": {
    "name": "ipython",
    "version": 3
   },
   "file_extension": ".py",
   "mimetype": "text/x-python",
   "name": "python",
   "nbconvert_exporter": "python",
   "pygments_lexer": "ipython3",
   "version": "3.7.6"
  }
 },
 "nbformat": 4,
 "nbformat_minor": 1
}
